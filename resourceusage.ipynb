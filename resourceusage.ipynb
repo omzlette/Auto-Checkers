{
 "cells": [
  {
   "cell_type": "code",
   "execution_count": 1,
   "metadata": {},
   "outputs": [
    {
     "name": "stdout",
     "output_type": "stream",
     "text": [
      "Collecting pandas\n",
      "  Downloading pandas-2.1.4-cp310-cp310-win_amd64.whl.metadata (18 kB)\n",
      "Requirement already satisfied: numpy<2,>=1.22.4 in c:\\users\\omzlette\\desktop\\fibo\\thesis\\checker-code\\venv\\lib\\site-packages (from pandas) (1.26.2)\n",
      "Requirement already satisfied: python-dateutil>=2.8.2 in c:\\users\\omzlette\\desktop\\fibo\\thesis\\checker-code\\venv\\lib\\site-packages (from pandas) (2.8.2)\n",
      "Collecting pytz>=2020.1 (from pandas)\n",
      "  Downloading pytz-2023.3.post1-py2.py3-none-any.whl.metadata (22 kB)\n",
      "Collecting tzdata>=2022.1 (from pandas)\n",
      "  Downloading tzdata-2023.3-py2.py3-none-any.whl (341 kB)\n",
      "     ---------------------------------------- 0.0/341.8 kB ? eta -:--:--\n",
      "     ------------------------------------- 341.8/341.8 kB 22.1 MB/s eta 0:00:00\n",
      "Requirement already satisfied: six>=1.5 in c:\\users\\omzlette\\desktop\\fibo\\thesis\\checker-code\\venv\\lib\\site-packages (from python-dateutil>=2.8.2->pandas) (1.16.0)\n",
      "Downloading pandas-2.1.4-cp310-cp310-win_amd64.whl (10.7 MB)\n",
      "   ---------------------------------------- 0.0/10.7 MB ? eta -:--:--\n",
      "   ----- ---------------------------------- 1.3/10.7 MB 42.9 MB/s eta 0:00:01\n",
      "   --------------- ------------------------ 4.2/10.7 MB 53.2 MB/s eta 0:00:01\n",
      "   ----------------------- ---------------- 6.4/10.7 MB 51.1 MB/s eta 0:00:01\n",
      "   ---------------------------------- ----- 9.2/10.7 MB 58.7 MB/s eta 0:00:01\n",
      "   ---------------------------------------  10.7/10.7 MB 54.4 MB/s eta 0:00:01\n",
      "   ---------------------------------------- 10.7/10.7 MB 46.7 MB/s eta 0:00:00\n",
      "Downloading pytz-2023.3.post1-py2.py3-none-any.whl (502 kB)\n",
      "   ---------------------------------------- 0.0/502.5 kB ? eta -:--:--\n",
      "   --------------------------------------- 502.5/502.5 kB 32.8 MB/s eta 0:00:00\n",
      "Installing collected packages: pytz, tzdata, pandas\n",
      "Successfully installed pandas-2.1.4 pytz-2023.3.post1 tzdata-2023.3\n"
     ]
    },
    {
     "name": "stderr",
     "output_type": "stream",
     "text": [
      "\n",
      "[notice] A new release of pip is available: 23.3.1 -> 23.3.2\n",
      "[notice] To update, run: python.exe -m pip install --upgrade pip\n"
     ]
    }
   ],
   "source": [
    "!pip install pandas"
   ]
  },
  {
   "cell_type": "code",
   "execution_count": 3,
   "metadata": {},
   "outputs": [],
   "source": [
    "import pandas as pd\n",
    "import numpy as np"
   ]
  },
  {
   "cell_type": "code",
   "execution_count": 4,
   "metadata": {},
   "outputs": [
    {
     "data": {
      "text/html": [
       "<div>\n",
       "<style scoped>\n",
       "    .dataframe tbody tr th:only-of-type {\n",
       "        vertical-align: middle;\n",
       "    }\n",
       "\n",
       "    .dataframe tbody tr th {\n",
       "        vertical-align: top;\n",
       "    }\n",
       "\n",
       "    .dataframe thead th {\n",
       "        text-align: right;\n",
       "    }\n",
       "</style>\n",
       "<table border=\"1\" class=\"dataframe\">\n",
       "  <thead>\n",
       "    <tr style=\"text-align: right;\">\n",
       "      <th></th>\n",
       "      <th>CPU</th>\n",
       "      <th>GPU</th>\n",
       "      <th>RAM</th>\n",
       "      <th>Moves</th>\n",
       "      <th>Loop</th>\n",
       "    </tr>\n",
       "  </thead>\n",
       "  <tbody>\n",
       "    <tr>\n",
       "      <th>0</th>\n",
       "      <td>74.1</td>\n",
       "      <td>0.0</td>\n",
       "      <td>1.253065</td>\n",
       "      <td>NaN</td>\n",
       "      <td>NaN</td>\n",
       "    </tr>\n",
       "    <tr>\n",
       "      <th>1</th>\n",
       "      <td>67.4</td>\n",
       "      <td>0.0</td>\n",
       "      <td>1.288311</td>\n",
       "      <td>NaN</td>\n",
       "      <td>NaN</td>\n",
       "    </tr>\n",
       "    <tr>\n",
       "      <th>2</th>\n",
       "      <td>33.1</td>\n",
       "      <td>0.0</td>\n",
       "      <td>1.295970</td>\n",
       "      <td>NaN</td>\n",
       "      <td>NaN</td>\n",
       "    </tr>\n",
       "    <tr>\n",
       "      <th>3</th>\n",
       "      <td>10.2</td>\n",
       "      <td>0.0</td>\n",
       "      <td>1.296962</td>\n",
       "      <td>NaN</td>\n",
       "      <td>NaN</td>\n",
       "    </tr>\n",
       "    <tr>\n",
       "      <th>4</th>\n",
       "      <td>10.4</td>\n",
       "      <td>0.0</td>\n",
       "      <td>1.298379</td>\n",
       "      <td>NaN</td>\n",
       "      <td>NaN</td>\n",
       "    </tr>\n",
       "  </tbody>\n",
       "</table>\n",
       "</div>"
      ],
      "text/plain": [
       "    CPU  GPU       RAM  Moves  Loop\n",
       "0  74.1  0.0  1.253065    NaN   NaN\n",
       "1  67.4  0.0  1.288311    NaN   NaN\n",
       "2  33.1  0.0  1.295970    NaN   NaN\n",
       "3  10.2  0.0  1.296962    NaN   NaN\n",
       "4  10.4  0.0  1.298379    NaN   NaN"
      ]
     },
     "execution_count": 4,
     "metadata": {},
     "output_type": "execute_result"
    }
   ],
   "source": [
    "dfIDLE = pd.read_csv('data/idle_resource.csv', sep=',', header=0)\n",
    "dfIDLE.head()"
   ]
  },
  {
   "cell_type": "code",
   "execution_count": 5,
   "metadata": {},
   "outputs": [
    {
     "name": "stdout",
     "output_type": "stream",
     "text": [
      "idleCPU:  17.6785\n",
      "idleGPU:  0.0\n",
      "idleRAM:  1.18509010944\n"
     ]
    }
   ],
   "source": [
    "idleCPU = dfIDLE['CPU'].mean()\n",
    "idleGPU = dfIDLE['GPU'].mean()\n",
    "idleRAM = dfIDLE['RAM'].mean()\n",
    "print(\"idleCPU: \", idleCPU)\n",
    "print(\"idleGPU: \", idleGPU)\n",
    "print(\"idleRAM: \", idleRAM)"
   ]
  },
  {
   "cell_type": "code",
   "execution_count": 8,
   "metadata": {},
   "outputs": [
    {
     "data": {
      "text/html": [
       "<div>\n",
       "<style scoped>\n",
       "    .dataframe tbody tr th:only-of-type {\n",
       "        vertical-align: middle;\n",
       "    }\n",
       "\n",
       "    .dataframe tbody tr th {\n",
       "        vertical-align: top;\n",
       "    }\n",
       "\n",
       "    .dataframe thead th {\n",
       "        text-align: right;\n",
       "    }\n",
       "</style>\n",
       "<table border=\"1\" class=\"dataframe\">\n",
       "  <thead>\n",
       "    <tr style=\"text-align: right;\">\n",
       "      <th></th>\n",
       "      <th>CPU</th>\n",
       "      <th>GPU</th>\n",
       "      <th>RAM</th>\n",
       "      <th>Moves</th>\n",
       "      <th>Loop</th>\n",
       "    </tr>\n",
       "  </thead>\n",
       "  <tbody>\n",
       "    <tr>\n",
       "      <th>851</th>\n",
       "      <td>51.9</td>\n",
       "      <td>0.0</td>\n",
       "      <td>1.350853</td>\n",
       "      <td>33</td>\n",
       "      <td>19</td>\n",
       "    </tr>\n",
       "    <tr>\n",
       "      <th>852</th>\n",
       "      <td>49.6</td>\n",
       "      <td>0.0</td>\n",
       "      <td>1.350959</td>\n",
       "      <td>34</td>\n",
       "      <td>19</td>\n",
       "    </tr>\n",
       "    <tr>\n",
       "      <th>853</th>\n",
       "      <td>51.7</td>\n",
       "      <td>0.0</td>\n",
       "      <td>1.350861</td>\n",
       "      <td>35</td>\n",
       "      <td>19</td>\n",
       "    </tr>\n",
       "    <tr>\n",
       "      <th>854</th>\n",
       "      <td>49.6</td>\n",
       "      <td>0.0</td>\n",
       "      <td>1.351205</td>\n",
       "      <td>36</td>\n",
       "      <td>19</td>\n",
       "    </tr>\n",
       "    <tr>\n",
       "      <th>855</th>\n",
       "      <td>51.5</td>\n",
       "      <td>0.0</td>\n",
       "      <td>1.350939</td>\n",
       "      <td>37</td>\n",
       "      <td>19</td>\n",
       "    </tr>\n",
       "  </tbody>\n",
       "</table>\n",
       "</div>"
      ],
      "text/plain": [
       "      CPU  GPU       RAM  Moves  Loop\n",
       "851  51.9  0.0  1.350853     33    19\n",
       "852  49.6  0.0  1.350959     34    19\n",
       "853  51.7  0.0  1.350861     35    19\n",
       "854  49.6  0.0  1.351205     36    19\n",
       "855  51.5  0.0  1.350939     37    19"
      ]
     },
     "execution_count": 8,
     "metadata": {},
     "output_type": "execute_result"
    }
   ],
   "source": [
    "dfMM = pd.read_csv('data/resource_usage.csv', sep=',', header=0)\n",
    "dfMM.tail()"
   ]
  },
  {
   "cell_type": "code",
   "execution_count": 7,
   "metadata": {},
   "outputs": [
    {
     "name": "stdout",
     "output_type": "stream",
     "text": [
      "mmCPU:  77.4501168224299\n",
      "mmGPU:  0.0\n",
      "mmRAM:  1.354732261682243\n"
     ]
    }
   ],
   "source": [
    "mmCPU = dfMM['CPU'].mean()\n",
    "mmGPU = dfMM['GPU'].mean()\n",
    "mmRAM = dfMM['RAM'].mean()\n",
    "print(\"mmCPU: \", mmCPU)\n",
    "print(\"mmGPU: \", mmGPU)\n",
    "print(\"mmRAM: \", mmRAM)"
   ]
  }
 ],
 "metadata": {
  "kernelspec": {
   "display_name": "venv",
   "language": "python",
   "name": "python3"
  },
  "language_info": {
   "codemirror_mode": {
    "name": "ipython",
    "version": 3
   },
   "file_extension": ".py",
   "mimetype": "text/x-python",
   "name": "python",
   "nbconvert_exporter": "python",
   "pygments_lexer": "ipython3",
   "version": "3.10.6"
  }
 },
 "nbformat": 4,
 "nbformat_minor": 2
}
