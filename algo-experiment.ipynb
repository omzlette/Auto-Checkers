{
 "cells": [
  {
   "cell_type": "code",
   "execution_count": 4,
   "metadata": {},
   "outputs": [],
   "source": [
    "# OPENCV\n",
    "import cv2 as cv\n",
    "import numpy as np\n",
    "from PIL import ImageGrab\n",
    "from functools import partial\n",
    "import pyautogui\n",
    "\n",
    "ImageGrab.grab = partial(ImageGrab.grab, all_screens=True)"
   ]
  },
  {
   "cell_type": "code",
   "execution_count": 5,
   "metadata": {},
   "outputs": [],
   "source": [
    "def hsvColorSlider():\n",
    "    cv.namedWindow('HSV Color Slider')\n",
    "    cv.createTrackbar('Hue Min', 'HSV Color Slider', 0, 179, nothing)\n",
    "    cv.createTrackbar('Hue Max', 'HSV Color Slider', 104, 179, nothing)\n",
    "    cv.createTrackbar('Sat Min', 'HSV Color Slider', 0, 255, nothing)\n",
    "    cv.createTrackbar('Sat Max', 'HSV Color Slider', 255, 255, nothing)\n",
    "    cv.createTrackbar('Val Min', 'HSV Color Slider', 124, 255, nothing)\n",
    "    cv.createTrackbar('Val Max', 'HSV Color Slider', 255, 255, nothing)\n",
    "\n",
    "def nothing(x):\n",
    "    pass\n",
    "\n",
    "def getHSV():\n",
    "    hue_min = cv.getTrackbarPos('Hue Min', 'HSV Color Slider')\n",
    "    hue_max = cv.getTrackbarPos('Hue Max', 'HSV Color Slider')\n",
    "    sat_min = cv.getTrackbarPos('Sat Min', 'HSV Color Slider')\n",
    "    sat_max = cv.getTrackbarPos('Sat Max', 'HSV Color Slider')\n",
    "    val_min = cv.getTrackbarPos('Val Min', 'HSV Color Slider')\n",
    "    val_max = cv.getTrackbarPos('Val Max', 'HSV Color Slider')\n",
    "    return hue_min, hue_max, sat_min, sat_max, val_min, val_max"
   ]
  },
  {
   "cell_type": "code",
   "execution_count": 6,
   "metadata": {},
   "outputs": [],
   "source": [
    "def convert_to_binary(image):\n",
    "    hsv = cv.cvtColor(image, cv.COLOR_BGR2HSV)\n",
    "    # remove background\n",
    "    (hmin, hmax, smin, smax, vmin, vmax) = getHSV()\n",
    "    lower = np.array([hmin, smin, vmin])\n",
    "    upper = np.array([hmax, smax, vmax])\n",
    "    mask = cv.inRange(hsv, lower, upper)\n",
    "\n",
    "    krn = cv.getStructuringElement(cv.MORPH_RECT, (50, 30))\n",
    "    dlt = cv.dilate(mask, krn, iterations=5)\n",
    "    res = 255 - cv.bitwise_and(dlt, mask)\n",
    "    # # Apply threshold\n",
    "    # _, res = cv.threshold(hsv, 0, 255, cv.THRESH_OTSU)\n",
    "    return res"
   ]
  },
  {
   "cell_type": "code",
   "execution_count": 7,
   "metadata": {},
   "outputs": [],
   "source": [
    "# detect checkers board\n",
    "def detect_checkers_board(img):\n",
    "    # convert to gray scale\n",
    "    mask = convert_to_binary(img)\n",
    "    # mask = cv.cvtColor(img, cv.COLOR_BGR2GRAY)\n",
    "    # find the chess board corners\n",
    "    ret, corners = cv.findChessboardCorners(mask, (7, 7), None)\n",
    "    # if found, draw corners\n",
    "    if ret == True:\n",
    "        # draw corners\n",
    "        cv.drawChessboardCorners(img, (7, 7), corners, ret)\n",
    "        return True, corners\n",
    "    return False, None"
   ]
  },
  {
   "cell_type": "code",
   "execution_count": 8,
   "metadata": {},
   "outputs": [],
   "source": [
    "# get the board corners\n",
    "def get_board_corners(corners):\n",
    "    # get the corners\n",
    "    corners = corners.reshape(-1, 2)\n",
    "    x_delta = abs(corners[0][0] - corners[1][0])\n",
    "    y_delta = abs(corners[0][1] - corners[7][1])\n",
    "\n",
    "    # get the top left corner\n",
    "    top_left = corners[0][0] - x_delta, corners[0][1] - y_delta\n",
    "    # get the top right corner\n",
    "    top_right = corners[6][0] + x_delta, corners[6][1] - y_delta\n",
    "    # get the bottom left corner\n",
    "    bottom_left = corners[42][0] - x_delta, corners[42][1] + y_delta\n",
    "    # get the bottom right corner\n",
    "    bottom_right = corners[48][0] + x_delta, corners[48][1] + y_delta\n",
    "    return top_left, top_right, bottom_left, bottom_right"
   ]
  },
  {
   "cell_type": "code",
   "execution_count": 9,
   "metadata": {},
   "outputs": [],
   "source": [
    "def get_board_squares(squareCoords, corners):\n",
    "    # get the corners\n",
    "    corners = corners.reshape(-1, 2)\n",
    "    x_delta = abs(corners[0][0] - corners[1][0])\n",
    "    y_delta = abs(corners[0][1] - corners[7][1])\n",
    "    \n",
    "    home_coords = corners[0][0] - x_delta/2, corners[0][1] - y_delta/2\n",
    "\n",
    "    x = home_coords[0] + ((x_delta) * squareCoords[1])\n",
    "    y = home_coords[1] + ((y_delta) * squareCoords[0])\n",
    "    coords = (x, y)\n",
    "\n",
    "    return coords"
   ]
  },
  {
   "cell_type": "code",
   "execution_count": 10,
   "metadata": {},
   "outputs": [],
   "source": [
    "def crop_board(img, corners):\n",
    "    # get the corners\n",
    "    top_left, top_right, bottom_left, bottom_right = get_board_corners(corners)\n",
    "    # get the width of the board\n",
    "    width = int(np.sqrt((top_right[0] - top_left[0])**2 + (top_right[1] - top_left[1])**2))\n",
    "    # get the height of the board\n",
    "    height = int(np.sqrt((top_left[0] - bottom_left[0])**2 + (top_left[1] - bottom_left[1])**2))\n",
    "    # get the perspective transform matrix\n",
    "    pts1 = np.float32([top_left, top_right, bottom_left, bottom_right])\n",
    "    pts2 = np.float32([[0, 0], [width, 0], [0, height], [width, height]])\n",
    "    matrix = cv.getPerspectiveTransform(pts1, pts2)\n",
    "    # apply the perspective transform\n",
    "    result = cv.warpPerspective(img, matrix, (width, height))\n",
    "    return result"
   ]
  },
  {
   "cell_type": "code",
   "execution_count": 11,
   "metadata": {},
   "outputs": [],
   "source": [
    "def detect_pieces(boardimg, corners):\n",
    "    if corners is not None:\n",
    "        # get the corners\n",
    "        top_left, _, _, bottom_right = get_board_corners(corners)\n",
    "        # detect white squares\n",
    "        # convert to gray scale\n",
    "        gray = cv.cvtColor(boardimg, cv.COLOR_BGR2GRAY)\n",
    "        # apply threshold\n",
    "        _, thresh = cv.threshold(gray, 0, 255, cv.THRESH_BINARY_INV + cv.THRESH_OTSU)\n",
    "        # find contours\n",
    "        contours, _ = cv.findContours(thresh, cv.RETR_EXTERNAL, cv.CHAIN_APPROX_SIMPLE)\n",
    "        # get the squares\n",
    "        # apply only the squares that are inside the board\n",
    "        pieces = []\n",
    "        for cnt in contours:\n",
    "            x, y, w, h = cv.boundingRect(cnt)\n",
    "            if bottom_right[0] > x > top_left[0] and bottom_right[1] > y > top_left[1]:\n",
    "                if 25 < w < 50 and 25 < h < 50:\n",
    "                    pieces.append((x, y, w, h))\n",
    "    return pieces"
   ]
  },
  {
   "cell_type": "code",
   "execution_count": 12,
   "metadata": {},
   "outputs": [],
   "source": [
    "def match_images(img, template):\n",
    "    # convert to gray scale\n",
    "    gray = cv.cvtColor(img, cv.COLOR_BGR2GRAY)\n",
    "    template = cv.cvtColor(template, cv.COLOR_BGR2GRAY)\n",
    "    # get the template size\n",
    "    w, h = template.shape[::-1]\n",
    "    # match the template\n",
    "    res = cv.matchTemplate(gray, template, cv.TM_CCOEFF_NORMED)\n",
    "    # get the threshold\n",
    "    threshold = 0.8\n",
    "    loc = np.where(res >= threshold), w, h\n",
    "\n",
    "    return loc"
   ]
  },
  {
   "cell_type": "code",
   "execution_count": 13,
   "metadata": {},
   "outputs": [],
   "source": [
    "def update_board_state(boardimg):\n",
    "    pieces = detect_pieces(boardimg)\n",
    "    board = np.zeros((8, 8), dtype=int)\n",
    "    for piece in pieces:\n",
    "        x, y, w, h = piece\n",
    "        square = (int(x/50), int(y/50))\n",
    "        board[square] = 1\n",
    "    return board"
   ]
  },
  {
   "cell_type": "code",
   "execution_count": 14,
   "metadata": {},
   "outputs": [
    {
     "name": "stdout",
     "output_type": "stream",
     "text": [
      "Resolution: (3840, 1080), Mode: RGB, Format: None\n"
     ]
    }
   ],
   "source": [
    "# only screen 1\n",
    "screen = ImageGrab.grab(all_screens=True)\n",
    "print(f\"Resolution: {screen.size}, Mode: {screen.mode}, Format: {screen.format}\")\n",
    "\n",
    "# screen right : (1920, 0, 3840, 1080)\n",
    "# screen left : (0, 0, 1920, 1080)\n",
    "\n",
    "screen = screen.crop((1920, 0, 3840, 1080))\n",
    "screen = np.array(screen)"
   ]
  },
  {
   "cell_type": "code",
   "execution_count": 20,
   "metadata": {},
   "outputs": [
    {
     "name": "stdout",
     "output_type": "stream",
     "text": [
      "Resolution: (3840, 1080), Mode: RGB, Format: None\n",
      "Checkers board detected\n",
      "16 [(1083, 734, 34, 34), (955, 734, 37, 33), (830, 734, 34, 34), (702, 734, 37, 33), (1018, 673, 36, 33), (765, 673, 36, 33), (892, 671, 35, 33), (1082, 608, 35, 32), (889, 416, 42, 41), (1079, 352, 42, 42), (953, 352, 41, 42), (700, 352, 41, 42), (1142, 289, 42, 42), (1016, 289, 42, 42), (889, 289, 42, 42), (763, 289, 42, 42)]\n",
      "Resolution: (3840, 1080), Mode: RGB, Format: None\n",
      "Checkers board detected\n",
      "16 [(1083, 734, 34, 34), (955, 734, 37, 33), (830, 734, 34, 34), (702, 734, 37, 33), (1018, 673, 36, 33), (765, 673, 36, 33), (892, 671, 35, 33), (1082, 608, 35, 32), (889, 416, 42, 41), (1079, 352, 42, 42), (953, 352, 41, 42), (700, 352, 41, 42), (1142, 289, 42, 42), (1016, 289, 42, 42), (889, 289, 42, 42), (763, 289, 42, 42)]\n",
      "Resolution: (3840, 1080), Mode: RGB, Format: None\n",
      "Checkers board detected\n",
      "16 [(1083, 734, 34, 34), (955, 734, 37, 33), (830, 734, 34, 34), (702, 734, 37, 33), (1018, 673, 36, 33), (765, 673, 36, 33), (892, 671, 35, 33), (1082, 608, 35, 32), (889, 416, 42, 41), (1079, 352, 42, 42), (953, 352, 41, 42), (700, 352, 41, 42), (1142, 289, 42, 42), (1016, 289, 42, 42), (889, 289, 42, 42), (763, 289, 42, 42)]\n",
      "Resolution: (3840, 1080), Mode: RGB, Format: None\n",
      "Checkers board detected\n",
      "16 [(1083, 734, 34, 34), (955, 734, 37, 33), (830, 734, 34, 34), (702, 734, 37, 33), (1018, 673, 36, 33), (765, 673, 36, 33), (892, 671, 35, 33), (1082, 608, 35, 32), (889, 416, 42, 41), (1079, 352, 42, 42), (953, 352, 41, 42), (700, 352, 41, 42), (1142, 289, 42, 42), (1016, 289, 42, 42), (889, 289, 42, 42), (763, 289, 42, 42)]\n",
      "Resolution: (3840, 1080), Mode: RGB, Format: None\n",
      "Checkers board detected\n",
      "16 [(1083, 734, 34, 34), (955, 734, 37, 33), (830, 734, 34, 34), (702, 734, 37, 33), (1018, 673, 36, 33), (765, 673, 36, 33), (892, 671, 35, 33), (1082, 608, 35, 32), (889, 416, 42, 41), (1079, 352, 42, 42), (953, 352, 41, 42), (700, 352, 41, 42), (1142, 289, 42, 42), (1016, 289, 42, 42), (889, 289, 42, 42), (763, 289, 42, 42)]\n",
      "Resolution: (3840, 1080), Mode: RGB, Format: None\n",
      "Checkers board detected\n",
      "16 [(1083, 734, 34, 34), (955, 734, 37, 33), (830, 734, 34, 34), (702, 734, 37, 33), (1018, 673, 36, 33), (765, 673, 36, 33), (892, 671, 35, 33), (1082, 608, 35, 32), (889, 416, 42, 41), (1079, 352, 42, 42), (953, 352, 41, 42), (700, 352, 41, 42), (1142, 289, 42, 42), (1016, 289, 42, 42), (889, 289, 42, 42), (763, 289, 42, 42)]\n",
      "Resolution: (3840, 1080), Mode: RGB, Format: None\n",
      "Checkers board detected\n",
      "16 [(1083, 734, 34, 34), (955, 734, 37, 33), (830, 734, 34, 34), (702, 734, 37, 33), (1018, 673, 36, 33), (765, 673, 36, 33), (892, 671, 35, 33), (1082, 608, 35, 32), (889, 416, 42, 41), (1079, 352, 42, 42), (953, 352, 41, 42), (700, 352, 41, 42), (1142, 289, 42, 42), (1016, 289, 42, 42), (889, 289, 42, 42), (763, 289, 42, 42)]\n",
      "Resolution: (3840, 1080), Mode: RGB, Format: None\n",
      "Checkers board detected\n",
      "16 [(1083, 734, 34, 34), (955, 734, 37, 33), (830, 734, 34, 34), (702, 734, 37, 33), (1018, 673, 36, 33), (765, 673, 36, 33), (892, 671, 35, 33), (1082, 608, 35, 32), (889, 416, 42, 41), (1079, 352, 42, 42), (953, 352, 41, 42), (700, 352, 41, 42), (1142, 289, 42, 42), (1016, 289, 42, 42), (889, 289, 42, 42), (763, 289, 42, 42)]\n",
      "Resolution: (3840, 1080), Mode: RGB, Format: None\n",
      "Checkers board detected\n",
      "16 [(1083, 734, 34, 34), (955, 734, 37, 33), (830, 734, 34, 34), (702, 734, 37, 33), (1018, 673, 36, 33), (765, 673, 36, 33), (892, 671, 35, 33), (1082, 608, 35, 32), (889, 416, 42, 41), (1079, 352, 42, 42), (953, 352, 41, 42), (700, 352, 41, 42), (1142, 289, 42, 42), (1016, 289, 42, 42), (889, 289, 42, 42), (763, 289, 42, 42)]\n",
      "Resolution: (3840, 1080), Mode: RGB, Format: None\n",
      "Checkers board detected\n",
      "16 [(1083, 734, 34, 34), (955, 734, 37, 33), (830, 734, 34, 34), (702, 734, 37, 33), (1018, 673, 36, 33), (765, 673, 36, 33), (892, 671, 35, 33), (1082, 608, 35, 32), (889, 416, 42, 41), (1079, 352, 42, 42), (953, 352, 41, 42), (700, 352, 41, 42), (1142, 289, 42, 42), (1016, 289, 42, 42), (889, 289, 42, 42), (763, 289, 42, 42)]\n",
      "Resolution: (3840, 1080), Mode: RGB, Format: None\n",
      "Checkers board detected\n",
      "16 [(1083, 734, 34, 34), (955, 734, 37, 33), (830, 734, 34, 34), (702, 734, 37, 33), (1018, 673, 36, 33), (765, 673, 36, 33), (892, 671, 35, 33), (1082, 608, 35, 32), (889, 416, 42, 41), (1079, 352, 42, 42), (953, 352, 41, 42), (700, 352, 41, 42), (1142, 289, 42, 42), (1016, 289, 42, 42), (889, 289, 42, 42), (763, 289, 42, 42)]\n",
      "Resolution: (3840, 1080), Mode: RGB, Format: None\n",
      "Checkers board detected\n",
      "16 [(1083, 734, 34, 34), (955, 734, 37, 33), (830, 734, 34, 34), (702, 734, 37, 33), (1018, 673, 36, 33), (765, 673, 36, 33), (892, 671, 35, 33), (1082, 608, 35, 32), (889, 416, 42, 41), (1079, 352, 42, 42), (953, 352, 41, 42), (700, 352, 41, 42), (1142, 289, 42, 42), (1016, 289, 42, 42), (889, 289, 42, 42), (763, 289, 42, 42)]\n",
      "Resolution: (3840, 1080), Mode: RGB, Format: None\n",
      "Checkers board detected\n",
      "16 [(1083, 734, 34, 34), (955, 734, 37, 33), (830, 734, 34, 34), (702, 734, 37, 33), (1018, 673, 36, 33), (765, 673, 36, 33), (892, 671, 35, 33), (1082, 608, 35, 32), (889, 416, 42, 41), (1079, 352, 42, 42), (953, 352, 41, 42), (700, 352, 41, 42), (1142, 289, 42, 42), (1016, 289, 42, 42), (889, 289, 42, 42), (763, 289, 42, 42)]\n",
      "Resolution: (3840, 1080), Mode: RGB, Format: None\n",
      "Checkers board detected\n",
      "16 [(1083, 734, 34, 34), (955, 734, 37, 33), (830, 734, 34, 34), (702, 734, 37, 33), (1018, 673, 36, 33), (765, 673, 36, 33), (892, 671, 35, 33), (1082, 608, 35, 32), (889, 416, 42, 41), (1079, 352, 42, 42), (953, 352, 41, 42), (700, 352, 41, 42), (1142, 289, 42, 42), (1016, 289, 42, 42), (889, 289, 42, 42), (763, 289, 42, 42)]\n",
      "Resolution: (3840, 1080), Mode: RGB, Format: None\n",
      "Checkers board detected\n",
      "16 [(1083, 734, 34, 34), (955, 734, 37, 33), (830, 734, 34, 34), (702, 734, 37, 33), (1018, 673, 36, 33), (765, 673, 36, 33), (892, 671, 35, 33), (1082, 608, 35, 32), (889, 416, 42, 41), (1079, 352, 42, 42), (953, 352, 41, 42), (700, 352, 41, 42), (1142, 289, 42, 42), (1016, 289, 42, 42), (889, 289, 42, 42), (763, 289, 42, 42)]\n",
      "Resolution: (3840, 1080), Mode: RGB, Format: None\n",
      "Checkers board detected\n",
      "16 [(1083, 734, 34, 34), (955, 734, 37, 33), (830, 734, 34, 34), (702, 734, 37, 33), (1018, 673, 36, 33), (765, 673, 36, 33), (892, 671, 35, 33), (1082, 608, 35, 32), (889, 416, 42, 41), (1079, 352, 42, 42), (953, 352, 41, 42), (700, 352, 41, 42), (1142, 289, 42, 42), (1016, 289, 42, 42), (889, 289, 42, 42), (763, 289, 42, 42)]\n",
      "Resolution: (3840, 1080), Mode: RGB, Format: None\n",
      "Checkers board detected\n",
      "16 [(1083, 734, 34, 34), (955, 734, 37, 33), (830, 734, 34, 34), (702, 734, 37, 33), (1018, 673, 36, 33), (765, 673, 36, 33), (892, 671, 35, 33), (1082, 608, 35, 32), (889, 416, 42, 41), (1079, 352, 42, 42), (953, 352, 41, 42), (700, 352, 41, 42), (1142, 289, 42, 42), (1016, 289, 42, 42), (889, 289, 42, 42), (763, 289, 42, 42)]\n",
      "Resolution: (3840, 1080), Mode: RGB, Format: None\n",
      "Checkers board detected\n",
      "16 [(1083, 734, 34, 34), (955, 734, 37, 33), (830, 734, 34, 34), (702, 734, 37, 33), (1018, 673, 36, 33), (765, 673, 36, 33), (892, 671, 35, 33), (1082, 608, 35, 32), (889, 416, 42, 41), (1079, 352, 42, 42), (953, 352, 41, 42), (700, 352, 41, 42), (1142, 289, 42, 42), (1016, 289, 42, 42), (889, 289, 42, 42), (763, 289, 42, 42)]\n",
      "Resolution: (3840, 1080), Mode: RGB, Format: None\n",
      "Checkers board detected\n",
      "16 [(1083, 734, 34, 34), (955, 734, 37, 33), (830, 734, 34, 34), (702, 734, 37, 33), (1018, 673, 36, 33), (765, 673, 36, 33), (892, 671, 35, 33), (1082, 608, 35, 32), (889, 416, 42, 41), (1079, 352, 42, 42), (953, 352, 41, 42), (700, 352, 41, 42), (1142, 289, 42, 42), (1016, 289, 42, 42), (889, 289, 42, 42), (763, 289, 42, 42)]\n",
      "Resolution: (3840, 1080), Mode: RGB, Format: None\n",
      "Checkers board detected\n",
      "16 [(1083, 734, 34, 34), (955, 734, 37, 33), (830, 734, 34, 34), (702, 734, 37, 33), (1018, 673, 36, 33), (765, 673, 36, 33), (892, 671, 35, 33), (1082, 608, 35, 32), (889, 416, 42, 41), (1079, 352, 42, 42), (953, 352, 41, 42), (700, 352, 41, 42), (1142, 289, 42, 42), (1016, 289, 42, 42), (889, 289, 42, 42), (763, 289, 42, 42)]\n",
      "Resolution: (3840, 1080), Mode: RGB, Format: None\n",
      "Checkers board detected\n",
      "16 [(1083, 734, 34, 34), (955, 734, 37, 33), (830, 734, 34, 34), (702, 734, 37, 33), (1018, 673, 36, 33), (765, 673, 36, 33), (892, 671, 35, 33), (1082, 608, 35, 32), (889, 416, 42, 41), (1079, 352, 42, 42), (953, 352, 41, 42), (700, 352, 41, 42), (1142, 289, 42, 42), (1016, 289, 42, 42), (889, 289, 42, 42), (763, 289, 42, 42)]\n",
      "Resolution: (3840, 1080), Mode: RGB, Format: None\n",
      "Checkers board detected\n",
      "16 [(1083, 734, 34, 34), (955, 734, 37, 33), (830, 734, 34, 34), (702, 734, 37, 33), (1018, 673, 36, 33), (765, 673, 36, 33), (892, 671, 35, 33), (1082, 608, 35, 32), (889, 416, 42, 41), (1079, 352, 42, 42), (953, 352, 41, 42), (700, 352, 41, 42), (1142, 289, 42, 42), (1016, 289, 42, 42), (889, 289, 42, 42), (763, 289, 42, 42)]\n"
     ]
    }
   ],
   "source": [
    "pickerwindowBG = np.zeros((300, 512, 3), np.uint8)\n",
    "hsvColorSlider()\n",
    "(hmin, hmax, smin, smax, vmin, vmax) = getHSV()\n",
    "cv.imshow('HSV Color Slider', pickerwindowBG)\n",
    "while True:\n",
    "    screen = ImageGrab.grab(all_screens=True)\n",
    "    print(f\"Resolution: {screen.size}, Mode: {screen.mode}, Format: {screen.format}\")\n",
    "\n",
    "    # screen right : (1920, 0, 3840, 1080)\n",
    "    # screen left : (0, 0, 1920, 1080)\n",
    "\n",
    "    screen = screen.crop((1920, 0, 3840, 1080))\n",
    "    screen = np.array(screen)\n",
    "\n",
    "    screen_binary = convert_to_binary(screen)\n",
    "    ret, corners = detect_checkers_board(screen)\n",
    "    screen = cv.cvtColor(screen, cv.COLOR_BGR2RGB)\n",
    "\n",
    "    if ret:\n",
    "        print(\"Checkers board detected\")\n",
    "        screen_binary = cv.cvtColor(screen_binary, cv.COLOR_GRAY2RGB)\n",
    "\n",
    "        # get the pieces\n",
    "        pieces = detect_pieces(screen_binary, corners)\n",
    "        print(len(pieces), pieces)\n",
    "        for piece in pieces:\n",
    "            x, y, w, h = piece\n",
    "            cv.rectangle(screen_binary, (x, y), (x+w, y+h), (0, 255, 0), 2)\n",
    "        \n",
    "        screen_binary = crop_board(screen_binary, corners)\n",
    "        \n",
    "        cv.imshow('screen_binary', screen_binary)\n",
    "    else:\n",
    "        print(\"Checkers board not detected\")\n",
    "        # check game end\n",
    "        endimg = cv.imread('end.png')\n",
    "        matchinfo = match_images(screen, endimg)\n",
    "        loc, w, h = matchinfo\n",
    "        if loc[0].size > 0:\n",
    "            print(\"Game ended\")\n",
    "            for pt in zip(*loc[::-1]):\n",
    "                cv.rectangle(screen, pt, (pt[0] + w, pt[1] + h), (0, 0, 255), 2)\n",
    "        else:\n",
    "            print(\"Game not ended\")\n",
    "    # show screen\n",
    "    cv.imshow('screen', screen)\n",
    "    # cv.imshow('screen', screen)\n",
    "    if cv.waitKey(1) & 0xFF == ord('q'):\n",
    "        break\n",
    "cv.destroyAllWindows()"
   ]
  },
  {
   "cell_type": "code",
   "execution_count": 9,
   "metadata": {},
   "outputs": [
    {
     "name": "stdout",
     "output_type": "stream",
     "text": [
      "Top left: [896.5236 342.6222], Top right: [1275.5586   343.11987], Bottom left: [896.5 722.5], Bottom right: [1276.0753  722.4799]\n",
      "(864.7854309082031, 374.06109619140625)\n"
     ]
    }
   ],
   "source": [
    "# get the board corners\n",
    "if corners is not None:\n",
    "    top_left, top_right, bottom_left, bottom_right = get_board_corners(corners)\n",
    "    print(f\"Top left: {top_left}, Top right: {top_right}, Bottom left: {bottom_left}, Bottom right: {bottom_right}\")\n",
    "    coords = get_board_squares((1, 0), corners)\n",
    "    print(coords)"
   ]
  },
  {
   "cell_type": "code",
   "execution_count": 10,
   "metadata": {},
   "outputs": [
    {
     "name": "stdout",
     "output_type": "stream",
     "text": [
      "Square 0, 0: (864.7854309082031, 311.18328857421875)\n",
      "Square 0, 1: (928.2618103027344, 311.18328857421875)\n",
      "Square 0, 2: (991.7381896972656, 311.18328857421875)\n",
      "Square 0, 3: (1055.2145690917969, 311.18328857421875)\n",
      "Square 0, 4: (1118.6909484863281, 311.18328857421875)\n",
      "Square 0, 5: (1182.1673278808594, 311.18328857421875)\n",
      "Square 0, 6: (1245.6437072753906, 311.18328857421875)\n",
      "Square 0, 7: (1309.1200866699219, 311.18328857421875)\n",
      "Square 1, 0: (864.7854309082031, 374.06109619140625)\n",
      "Square 1, 1: (928.2618103027344, 374.06109619140625)\n",
      "Square 1, 2: (991.7381896972656, 374.06109619140625)\n",
      "Square 1, 3: (1055.2145690917969, 374.06109619140625)\n",
      "Square 1, 4: (1118.6909484863281, 374.06109619140625)\n",
      "Square 1, 5: (1182.1673278808594, 374.06109619140625)\n",
      "Square 1, 6: (1245.6437072753906, 374.06109619140625)\n",
      "Square 1, 7: (1309.1200866699219, 374.06109619140625)\n",
      "Square 2, 0: (864.7854309082031, 436.93890380859375)\n",
      "Square 2, 1: (928.2618103027344, 436.93890380859375)\n",
      "Square 2, 2: (991.7381896972656, 436.93890380859375)\n",
      "Square 2, 3: (1055.2145690917969, 436.93890380859375)\n",
      "Square 2, 4: (1118.6909484863281, 436.93890380859375)\n",
      "Square 2, 5: (1182.1673278808594, 436.93890380859375)\n",
      "Square 2, 6: (1245.6437072753906, 436.93890380859375)\n",
      "Square 2, 7: (1309.1200866699219, 436.93890380859375)\n",
      "Square 3, 0: (864.7854309082031, 499.81671142578125)\n",
      "Square 3, 1: (928.2618103027344, 499.81671142578125)\n",
      "Square 3, 2: (991.7381896972656, 499.81671142578125)\n",
      "Square 3, 3: (1055.2145690917969, 499.81671142578125)\n",
      "Square 3, 4: (1118.6909484863281, 499.81671142578125)\n",
      "Square 3, 5: (1182.1673278808594, 499.81671142578125)\n",
      "Square 3, 6: (1245.6437072753906, 499.81671142578125)\n",
      "Square 3, 7: (1309.1200866699219, 499.81671142578125)\n",
      "Square 4, 0: (864.7854309082031, 562.6945190429688)\n",
      "Square 4, 1: (928.2618103027344, 562.6945190429688)\n",
      "Square 4, 2: (991.7381896972656, 562.6945190429688)\n",
      "Square 4, 3: (1055.2145690917969, 562.6945190429688)\n",
      "Square 4, 4: (1118.6909484863281, 562.6945190429688)\n",
      "Square 4, 5: (1182.1673278808594, 562.6945190429688)\n",
      "Square 4, 6: (1245.6437072753906, 562.6945190429688)\n",
      "Square 4, 7: (1309.1200866699219, 562.6945190429688)\n",
      "Square 5, 0: (864.7854309082031, 625.5723266601562)\n",
      "Square 5, 1: (928.2618103027344, 625.5723266601562)\n",
      "Square 5, 2: (991.7381896972656, 625.5723266601562)\n",
      "Square 5, 3: (1055.2145690917969, 625.5723266601562)\n",
      "Square 5, 4: (1118.6909484863281, 625.5723266601562)\n",
      "Square 5, 5: (1182.1673278808594, 625.5723266601562)\n",
      "Square 5, 6: (1245.6437072753906, 625.5723266601562)\n",
      "Square 5, 7: (1309.1200866699219, 625.5723266601562)\n",
      "Square 6, 0: (864.7854309082031, 688.4501342773438)\n",
      "Square 6, 1: (928.2618103027344, 688.4501342773438)\n",
      "Square 6, 2: (991.7381896972656, 688.4501342773438)\n",
      "Square 6, 3: (1055.2145690917969, 688.4501342773438)\n",
      "Square 6, 4: (1118.6909484863281, 688.4501342773438)\n",
      "Square 6, 5: (1182.1673278808594, 688.4501342773438)\n",
      "Square 6, 6: (1245.6437072753906, 688.4501342773438)\n",
      "Square 6, 7: (1309.1200866699219, 688.4501342773438)\n",
      "Square 7, 0: (864.7854309082031, 751.3279418945312)\n",
      "Square 7, 1: (928.2618103027344, 751.3279418945312)\n",
      "Square 7, 2: (991.7381896972656, 751.3279418945312)\n",
      "Square 7, 3: (1055.2145690917969, 751.3279418945312)\n",
      "Square 7, 4: (1118.6909484863281, 751.3279418945312)\n",
      "Square 7, 5: (1182.1673278808594, 751.3279418945312)\n",
      "Square 7, 6: (1245.6437072753906, 751.3279418945312)\n",
      "Square 7, 7: (1309.1200866699219, 751.3279418945312)\n"
     ]
    }
   ],
   "source": [
    "if corners is not None:\n",
    "    for i in range(8):\n",
    "        for j in range(8):\n",
    "            coords = get_board_squares((i, j), corners)\n",
    "            print(f\"Square {i}, {j}: {coords}\")\n",
    "            pyautogui.moveTo(coords)"
   ]
  },
  {
   "cell_type": "code",
   "execution_count": 21,
   "metadata": {},
   "outputs": [
    {
     "name": "stdout",
     "output_type": "stream",
     "text": [
      "16\n",
      "[(763, 289, 42, 42), (889, 289, 42, 42), (1016, 289, 42, 42), (1142, 289, 42, 42), (700, 352, 41, 42), (953, 352, 41, 42), (1079, 352, 42, 42), (889, 416, 42, 41), (1082, 608, 35, 32), (892, 671, 35, 33), (765, 673, 36, 33), (1018, 673, 36, 33), (702, 734, 37, 33), (830, 734, 34, 34), (955, 734, 37, 33), (1083, 734, 34, 34)]\n"
     ]
    }
   ],
   "source": [
    "list = pieces.copy()\n",
    "print(len(list))\n",
    "list = sorted(list, key=lambda x: x[0])\n",
    "list = sorted(list, key=lambda x: x[1])\n",
    "print(list)"
   ]
  },
  {
   "cell_type": "code",
   "execution_count": 22,
   "metadata": {},
   "outputs": [
    {
     "name": "stdout",
     "output_type": "stream",
     "text": [
      "[(784.0, 310.0), (910.0, 310.0), (1037.0, 310.0), (1163.0, 310.0), (720.5, 373.0), (973.5, 373.0), (1100.0, 373.0), (910.0, 436.5), (1099.5, 624.0), (909.5, 687.5), (783.0, 689.5), (1036.0, 689.5), (720.5, 750.5), (847.0, 751.0), (973.5, 750.5), (1100.0, 751.0)]\n"
     ]
    }
   ],
   "source": [
    "newcoords = []\n",
    "for coords in list:\n",
    "    x, y, w, h = coords\n",
    "    pyautogui.moveTo(x + w/2, y + h/2)\n",
    "    newcoords.append((x + w/2, y + h/2))\n",
    "print(newcoords)"
   ]
  }
 ],
 "metadata": {
  "kernelspec": {
   "display_name": "dl-env",
   "language": "python",
   "name": "python3"
  },
  "language_info": {
   "codemirror_mode": {
    "name": "ipython",
    "version": 3
   },
   "file_extension": ".py",
   "mimetype": "text/x-python",
   "name": "python",
   "nbconvert_exporter": "python",
   "pygments_lexer": "ipython3",
   "version": "3.8.16"
  }
 },
 "nbformat": 4,
 "nbformat_minor": 2
}
