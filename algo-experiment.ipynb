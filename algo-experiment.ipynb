{
 "cells": [
  {
   "cell_type": "code",
   "execution_count": 1,
   "metadata": {},
   "outputs": [],
   "source": [
    "# OPENCV\n",
    "import cv2 as cv\n",
    "import numpy as np\n",
    "from PIL import ImageGrab\n",
    "from functools import partial\n",
    "import pyautogui\n",
    "\n",
    "ImageGrab.grab = partial(ImageGrab.grab, all_screens=True)"
   ]
  },
  {
   "cell_type": "code",
   "execution_count": 2,
   "metadata": {},
   "outputs": [],
   "source": [
    "def hsvColorSlider():\n",
    "    cv.namedWindow('HSV Color Slider')\n",
    "    cv.createTrackbar('Hue Min', 'HSV Color Slider', 0, 179, nothing)\n",
    "    cv.createTrackbar('Hue Max', 'HSV Color Slider', 104, 179, nothing)\n",
    "    cv.createTrackbar('Sat Min', 'HSV Color Slider', 0, 255, nothing)\n",
    "    cv.createTrackbar('Sat Max', 'HSV Color Slider', 134, 255, nothing)\n",
    "    cv.createTrackbar('Val Min', 'HSV Color Slider', 108, 255, nothing)\n",
    "    cv.createTrackbar('Val Max', 'HSV Color Slider', 255, 255, nothing)\n",
    "\n",
    "def nothing(x):\n",
    "    pass\n",
    "\n",
    "def getHSV():\n",
    "    hue_min = cv.getTrackbarPos('Hue Min', 'HSV Color Slider')\n",
    "    hue_max = cv.getTrackbarPos('Hue Max', 'HSV Color Slider')\n",
    "    sat_min = cv.getTrackbarPos('Sat Min', 'HSV Color Slider')\n",
    "    sat_max = cv.getTrackbarPos('Sat Max', 'HSV Color Slider')\n",
    "    val_min = cv.getTrackbarPos('Val Min', 'HSV Color Slider')\n",
    "    val_max = cv.getTrackbarPos('Val Max', 'HSV Color Slider')\n",
    "    return hue_min, hue_max, sat_min, sat_max, val_min, val_max\n",
    "\n",
    "# hue_min = 0\n",
    "# hue_max = 179\n",
    "# sat_min = 0\n",
    "# sat_max = 255\n",
    "# val_min = 124\n",
    "# val_max = 255"
   ]
  },
  {
   "cell_type": "code",
   "execution_count": 3,
   "metadata": {},
   "outputs": [],
   "source": [
    "def convert_to_binary(image):\n",
    "    hsv = cv.cvtColor(image, cv.COLOR_BGR2HSV)\n",
    "    # remove background\n",
    "    (hmin, hmax, smin, smax, vmin, vmax) = getHSV()\n",
    "    lower = np.array([hmin, smin, vmin])\n",
    "    upper = np.array([hmax, smax, vmax])\n",
    "    mask = cv.inRange(hsv, lower, upper)\n",
    "\n",
    "    krn = cv.getStructuringElement(cv.MORPH_RECT, (50, 30))\n",
    "    dlt = cv.dilate(mask, krn, iterations=5)\n",
    "    res = 255 - cv.bitwise_and(dlt, mask)\n",
    "    # # Apply threshold\n",
    "    # _, res = cv.threshold(hsv, 0, 255, cv.THRESH_OTSU)\n",
    "    return res"
   ]
  },
  {
   "cell_type": "code",
   "execution_count": 4,
   "metadata": {},
   "outputs": [],
   "source": [
    "# detect checkers board\n",
    "def detect_checkers_board(img):\n",
    "    # convert to gray scale\n",
    "    mask = convert_to_binary(img)\n",
    "    # mask = cv.cvtColor(img, cv.COLOR_BGR2GRAY)\n",
    "    # find the chess board corners\n",
    "    ret, corners = cv.findChessboardCorners(mask, (7, 7), None)\n",
    "    # if found, draw corners\n",
    "    if ret == True:\n",
    "        # draw corners\n",
    "        cv.drawChessboardCorners(img, (7, 7), corners, ret)\n",
    "        return True, corners\n",
    "    return False, None"
   ]
  },
  {
   "cell_type": "code",
   "execution_count": 5,
   "metadata": {},
   "outputs": [],
   "source": [
    "# get the board corners\n",
    "def get_board_corners(corners):\n",
    "    # get the corners\n",
    "    corners = corners.reshape(-1, 2)\n",
    "    x_delta = abs(corners[0][0] - corners[1][0])\n",
    "    y_delta = abs(corners[0][1] - corners[7][1])\n",
    "\n",
    "    # get the top left corner\n",
    "    top_left = corners[0][0] - x_delta, corners[0][1] - y_delta\n",
    "    # get the top right corner\n",
    "    top_right = corners[6][0] + x_delta, corners[6][1] - y_delta\n",
    "    # get the bottom left corner\n",
    "    bottom_left = corners[42][0] - x_delta, corners[42][1] + y_delta\n",
    "    # get the bottom right corner\n",
    "    bottom_right = corners[48][0] + x_delta, corners[48][1] + y_delta\n",
    "    return top_left, top_right, bottom_left, bottom_right"
   ]
  },
  {
   "cell_type": "code",
   "execution_count": 6,
   "metadata": {},
   "outputs": [],
   "source": [
    "def get_board_squares(squareCoords, corners):\n",
    "    # get the corners\n",
    "    corners = corners.reshape(-1, 2)\n",
    "    x_delta = abs(corners[0][0] - corners[1][0])\n",
    "    y_delta = abs(corners[0][1] - corners[7][1])\n",
    "    \n",
    "    home_coords = corners[0][0] - x_delta/2, corners[0][1] - y_delta/2\n",
    "\n",
    "    x = home_coords[0] + ((x_delta) * squareCoords[1])\n",
    "    y = home_coords[1] + ((y_delta) * squareCoords[0])\n",
    "    coords = (x, y)\n",
    "\n",
    "    return coords, x_delta, y_delta"
   ]
  },
  {
   "cell_type": "code",
   "execution_count": 7,
   "metadata": {},
   "outputs": [],
   "source": [
    "def crop_board(img, corners):\n",
    "    # get the corners\n",
    "    top_left, top_right, bottom_left, bottom_right = get_board_corners(corners)\n",
    "    # get the width of the board\n",
    "    width = int(np.sqrt((top_right[0] - top_left[0])**2 + (top_right[1] - top_left[1])**2))\n",
    "    # get the height of the board\n",
    "    height = int(np.sqrt((top_left[0] - bottom_left[0])**2 + (top_left[1] - bottom_left[1])**2))\n",
    "    # get the perspective transform matrix\n",
    "    pts1 = np.float32([top_left, top_right, bottom_left, bottom_right])\n",
    "    pts2 = np.float32([[0, 0], [width, 0], [0, height], [width, height]])\n",
    "    matrix = cv.getPerspectiveTransform(pts1, pts2)\n",
    "    # apply the perspective transform\n",
    "    result = cv.warpPerspective(img, matrix, (width, height))\n",
    "    return result"
   ]
  },
  {
   "cell_type": "code",
   "execution_count": 8,
   "metadata": {},
   "outputs": [],
   "source": [
    "def detect_pieces(boardimg, corners):\n",
    "    if corners is not None:\n",
    "        # get the corners\n",
    "        top_left, _, _, bottom_right = get_board_corners(corners)\n",
    "        # detect white squares\n",
    "        # convert to gray scale\n",
    "        gray = cv.cvtColor(boardimg, cv.COLOR_BGR2GRAY)\n",
    "        # apply threshold\n",
    "        _, thresh = cv.threshold(gray, 0, 255, cv.THRESH_BINARY_INV + cv.THRESH_OTSU)\n",
    "        # find contours\n",
    "        contours, _ = cv.findContours(thresh, cv.RETR_EXTERNAL, cv.CHAIN_APPROX_SIMPLE)\n",
    "        # get the squares\n",
    "        # apply only the squares that are inside the board\n",
    "        pieces = []\n",
    "        for cnt in contours:\n",
    "            x, y, w, h = cv.boundingRect(cnt)\n",
    "            if bottom_right[0] > x > top_left[0] and bottom_right[1] > y > top_left[1]:\n",
    "                if 25 < w < 50 and 25 < h < 50:\n",
    "                    pieces.append((x, y, w, h))\n",
    "    return pieces"
   ]
  },
  {
   "cell_type": "code",
   "execution_count": 9,
   "metadata": {},
   "outputs": [],
   "source": [
    "def match_images(img, template):\n",
    "    # convert to gray scale\n",
    "    gray = cv.cvtColor(img, cv.COLOR_BGR2GRAY)\n",
    "    template = cv.cvtColor(template, cv.COLOR_BGR2GRAY)\n",
    "    # get the template size\n",
    "    w, h = template.shape[::-1]\n",
    "    # match the template\n",
    "    res = cv.matchTemplate(gray, template, cv.TM_CCOEFF_NORMED)\n",
    "    # get the threshold\n",
    "    threshold = 0.8\n",
    "    loc = np.where(res >= threshold), w, h\n",
    "\n",
    "    return loc"
   ]
  },
  {
   "cell_type": "code",
   "execution_count": 10,
   "metadata": {},
   "outputs": [],
   "source": [
    "def getMove(prevBoard, newBoard, turn):\n",
    "    convertTurn = {'b': (1, 3), 'w': (2, 4)}\n",
    "    selected = None\n",
    "    move = None\n",
    "    pieceType = None\n",
    "    for row in range(8):\n",
    "        for col in range(8):\n",
    "            if prevBoard[row][col] != 0 and newBoard[row][col] == 0 and prevBoard[row][col] in convertTurn[turn]:\n",
    "                selected = (row, col)\n",
    "                pieceType = prevBoard[row][col]\n",
    "            if prevBoard[row][col] == 0 and newBoard[row][col] != 0:\n",
    "                move = (row, col)\n",
    "    \n",
    "    if selected is not None and move is not None and pieceType is not None:\n",
    "        if pieceType == 1 and move[0] == 7:\n",
    "            pieceType = 3\n",
    "        elif pieceType == 2 and move[0] == 0:\n",
    "            pieceType = 4\n",
    "\n",
    "    return selected, move, pieceType"
   ]
  },
  {
   "cell_type": "code",
   "execution_count": 11,
   "metadata": {},
   "outputs": [],
   "source": [
    "import copy\n",
    "def update_board_state(prevBoard, currBoard, turn):\n",
    "    convertTurn = {'b': (1, 3), 'w': (2, 4)}\n",
    "    otherPlayer = 'b' if turn == 'w' else 'w'\n",
    "    updated_board = copy.deepcopy(prevBoard)\n",
    "    capturedPiece = []\n",
    "\n",
    "    for row in range(8):\n",
    "        for col in range(8):\n",
    "            if currBoard[row][col] == 1 and prevBoard[row][col] == 0:\n",
    "                _, _, pieceType = getMove(prevBoard, currBoard, turn)\n",
    "                print(pieceType)\n",
    "                updated_board[row][col] = pieceType\n",
    "            elif currBoard[row][col] == 0 and prevBoard[row][col] != 0:\n",
    "                updated_board[row][col] = 0\n",
    "                if prevBoard[row][col] in convertTurn[otherPlayer]:\n",
    "                    capturedPiece.append((row, col))\n",
    "    \n",
    "    return updated_board, capturedPiece"
   ]
  },
  {
   "cell_type": "code",
   "execution_count": 12,
   "metadata": {},
   "outputs": [],
   "source": [
    "def getBoardState(boardimg, corners):\n",
    "    pieces = detect_pieces(boardimg, corners)\n",
    "    board = np.zeros((8, 8))\n",
    "    sorted_pieces = []\n",
    "\n",
    "    for row in range(8):\n",
    "        for col in range(8):\n",
    "            square = (row, col)\n",
    "            coords, x_delta, y_delta = get_board_squares(square, corners)\n",
    "            for _, piece in enumerate(pieces):\n",
    "                x, y, _, _ = piece\n",
    "                if coords[0] - x_delta/2 < x < coords[0] + x_delta/2 and coords[1] - y_delta/2 < y < coords[1] + y_delta/2:\n",
    "                    board[row][col] = 1\n",
    "                    sorted_pieces.append((piece, square, coords))\n",
    "                    break\n",
    "    return board, sorted_pieces"
   ]
  },
  {
   "cell_type": "code",
   "execution_count": 13,
   "metadata": {},
   "outputs": [],
   "source": [
    "def getMultipleCapture(prevBoard, newBoard, turn, captured):\n",
    "    selected, move, _ = getMove(prevBoard, newBoard, turn)\n",
    "    selectedList = [selected]\n",
    "    moves = []\n",
    "    \n",
    "    deltaRow = move[0] - selected[0]\n",
    "    deltaCol = move[1] - selected[1]\n",
    "    if deltaRow < 0 or deltaCol < 0:\n",
    "        captured = captured[::-1]\n",
    "    \n",
    "    tempBoard = copy.deepcopy(newBoard)\n",
    "    for row, col in captured:\n",
    "        rowDelta = row - selected[0]\n",
    "        rowDelta = rowDelta // abs(rowDelta)\n",
    "        colDelta = col - selected[1]\n",
    "        colDelta = colDelta // abs(colDelta)\n",
    "        selected = (row + rowDelta, col + colDelta)\n",
    "        moves.append(selected)\n",
    "    \n",
    "    selectedList.extend(moves[:-1])\n",
    "\n",
    "    return selectedList, moves"
   ]
  },
  {
   "cell_type": "code",
   "execution_count": 14,
   "metadata": {},
   "outputs": [
    {
     "data": {
      "text/plain": [
       "((0, 3), (7, 6), 3)"
      ]
     },
     "execution_count": 14,
     "metadata": {},
     "output_type": "execute_result"
    }
   ],
   "source": [
    "prevBoard = np.array([[0, 0, 0, 3, 0, 0, 0, 1],\n",
    "                      [0, 0, 2, 0, 1, 0, 1, 0],\n",
    "                      [0, 0, 0, 0, 0, 0, 0, 0],\n",
    "                      [0, 0, 0, 0, 0, 0, 0, 0],\n",
    "                      [0, 0, 0, 0, 0, 0, 0, 0],\n",
    "                      [0, 0, 0, 0, 0, 0, 0, 0],\n",
    "                      [0, 2, 0, 0, 0, 2, 0, 2],\n",
    "                      [0, 0, 0, 0, 0, 0, 0, 0]])\n",
    "\n",
    "testBoard = np.array([[0, 0, 0, 0, 0, 0, 0, 1],\n",
    "                      [0, 0, 0, 0, 1, 0, 1, 0],\n",
    "                      [0, 0, 0, 0, 0, 0, 0, 0],\n",
    "                      [0, 0, 0, 0, 0, 0, 0, 0],\n",
    "                      [0, 0, 0, 0, 0, 0, 0, 0],\n",
    "                      [0, 0, 0, 0, 0, 0, 0, 0],\n",
    "                      [0, 1, 0, 0, 0, 0, 0, 1],\n",
    "                      [0, 0, 0, 0, 0, 0, 1, 0]])\n",
    "\n",
    "selected, move, pieceType = getMove(prevBoard, testBoard, 'b')\n",
    "selected, move, pieceType"
   ]
  },
  {
   "cell_type": "code",
   "execution_count": 15,
   "metadata": {},
   "outputs": [
    {
     "data": {
      "text/plain": [
       "((7, 6), (0, 3), 3)"
      ]
     },
     "execution_count": 15,
     "metadata": {},
     "output_type": "execute_result"
    }
   ],
   "source": [
    "prevBoard = np.array([[0, 0, 0, 0, 0, 0, 0, 1],\n",
    "                      [0, 0, 2, 0, 1, 0, 1, 0],\n",
    "                      [0, 0, 0, 0, 0, 0, 0, 0],\n",
    "                      [0, 0, 2, 0, 0, 0, 0, 0],\n",
    "                      [0, 0, 0, 0, 0, 0, 0, 0],\n",
    "                      [0, 0, 0, 0, 0, 0, 0, 0],\n",
    "                      [0, 2, 0, 0, 0, 0, 0, 2],\n",
    "                      [0, 0, 0, 0, 0, 0, 3, 0]])\n",
    "\n",
    "testBoard = np.array([[0, 0, 0, 1, 0, 0, 0, 1],\n",
    "                      [0, 0, 0, 0, 1, 0, 1, 0],\n",
    "                      [0, 0, 0, 0, 0, 0, 0, 0],\n",
    "                      [0, 0, 0, 0, 0, 0, 0, 0],\n",
    "                      [0, 0, 0, 0, 0, 0, 0, 0],\n",
    "                      [0, 0, 0, 0, 0, 0, 0, 0],\n",
    "                      [0, 1, 0, 0, 0, 0, 0, 1],\n",
    "                      [0, 0, 0, 0, 0, 0, 0, 0]])\n",
    "\n",
    "selected, move, pieceType = getMove(prevBoard, testBoard, 'b')\n",
    "selected, move, pieceType"
   ]
  },
  {
   "cell_type": "code",
   "execution_count": 16,
   "metadata": {},
   "outputs": [
    {
     "ename": "NameError",
     "evalue": "name 'capturedPieces' is not defined",
     "output_type": "error",
     "traceback": [
      "\u001b[1;31m---------------------------------------------------------------------------\u001b[0m",
      "\u001b[1;31mNameError\u001b[0m                                 Traceback (most recent call last)",
      "Cell \u001b[1;32mIn[16], line 1\u001b[0m\n\u001b[1;32m----> 1\u001b[0m selectedList, moves \u001b[38;5;241m=\u001b[39m getMultipleCapture(prevBoard, testBoard, \u001b[38;5;124m'\u001b[39m\u001b[38;5;124mb\u001b[39m\u001b[38;5;124m'\u001b[39m, \u001b[43mcapturedPieces\u001b[49m)\n\u001b[0;32m      2\u001b[0m \u001b[38;5;28mprint\u001b[39m(selectedList, moves)\n",
      "\u001b[1;31mNameError\u001b[0m: name 'capturedPieces' is not defined"
     ]
    }
   ],
   "source": [
    "# selectedList, moves = getMultipleCapture(prevBoard, testBoard, 'b', capturedPieces)\n",
    "# print(selectedList, moves)"
   ]
  },
  {
   "cell_type": "code",
   "execution_count": null,
   "metadata": {},
   "outputs": [
    {
     "name": "stdout",
     "output_type": "stream",
     "text": [
      "3\n",
      "[(1, 2), (3, 2)]\n",
      "[0 0 0 3 0 0 0 1]\n",
      "[0 0 0 0 1 0 1 0]\n",
      "[0 0 0 0 0 0 0 0]\n",
      "[0 0 0 0 0 0 0 0]\n",
      "[0 0 0 0 0 0 0 0]\n",
      "[0 0 0 0 0 0 0 0]\n",
      "[0 2 0 0 0 0 0 2]\n",
      "[0 0 0 0 0 0 0 0]\n"
     ]
    }
   ],
   "source": [
    "updatedBoard, capturedPieces = update_board_state(prevBoard, testBoard, 'b')\n",
    "\n",
    "print(capturedPieces)\n",
    "for row in updatedBoard:\n",
    "    print(row)"
   ]
  },
  {
   "cell_type": "code",
   "execution_count": null,
   "metadata": {},
   "outputs": [
    {
     "name": "stdout",
     "output_type": "stream",
     "text": [
      "(1, 4) (7, 6)\n",
      "-1 -1\n",
      "[0 0 0 0 0 1 0 1]\n",
      "[1 0 1 0 0 0 0 0]\n",
      "[0 1 0 0 0 2 0 0]\n",
      "[0 0 0 0 0 0 0 0]\n",
      "[0 0 0 0 0 2 0 0]\n",
      "[0 0 0 0 0 0 0 0]\n",
      "[0 2 0 2 0 0 0 0]\n",
      "[2 0 2 0 2 0 1 0]\n"
     ]
    }
   ],
   "source": [
    "turn = 'w'\n",
    "testResetBoard = copy.deepcopy(prevBoard)\n",
    "# selected, move = (4, 5), (0, 1)\n",
    "# selected, move = (0, 1), (4, 5)\n",
    "print(selected, move)\n",
    "print((selected[0] - move[0])//abs(selected[0] - move[0]), (selected[1] - move[1])//abs(selected[1] - move[1]))\n",
    "pieceType = testResetBoard[selected[0]][selected[1]]\n",
    "testResetBoard[selected[0]][selected[1]] = 0\n",
    "testResetBoard[move[0]][move[1]] = pieceType\n",
    "if abs(selected[0] - move[0]) >= 2:\n",
    "    rowDelta = (selected[0] - move[0])//abs(selected[0] - move[0])\n",
    "    colDelta = (selected[1] - move[1])//abs(selected[1] - move[1])\n",
    "    testResetBoard[move[0] + rowDelta][move[1] + colDelta] = 0\n",
    "\n",
    "for row in testResetBoard:\n",
    "    print(row)"
   ]
  },
  {
   "cell_type": "code",
   "execution_count": null,
   "metadata": {},
   "outputs": [
    {
     "name": "stdout",
     "output_type": "stream",
     "text": [
      "Resolution: (3840, 1080), Mode: RGB, Format: None\n"
     ]
    }
   ],
   "source": [
    "# only screen 1\n",
    "screen = ImageGrab.grab(all_screens=True)\n",
    "print(f\"Resolution: {screen.size}, Mode: {screen.mode}, Format: {screen.format}\")\n",
    "\n",
    "# screen right : (1920, 0, 3840, 1080)\n",
    "# screen left : (0, 0, 1920, 1080)\n",
    "\n",
    "screen = screen.crop((1920, 0, 3840, 1080))\n",
    "screen = np.array(screen)"
   ]
  },
  {
   "cell_type": "code",
   "execution_count": 17,
   "metadata": {},
   "outputs": [],
   "source": [
    "def initGame(numGames):\n",
    "    turn = 'b'\n",
    "    # initialize the board\n",
    "    prevBoard = np.array([[0, 1, 0, 1, 0, 1, 0, 1],\n",
    "                          [1, 0, 1, 0, 1, 0, 1, 0],\n",
    "                          [0, 0, 0, 0, 0, 0, 0, 0],\n",
    "                          [0, 0, 0, 0, 0, 0, 0, 0],\n",
    "                          [0, 0, 0, 0, 0, 0, 0, 0],\n",
    "                          [0, 0, 0, 0, 0, 0, 0, 0],\n",
    "                          [0, 1, 0, 1, 0, 1, 0, 1],\n",
    "                          [1, 0, 1, 0, 1, 0, 1, 0]])\n",
    "    \n",
    "    bot = 'b' if numGames % 2 == 0 else 'w'\n",
    "    our = 'w' if numGames % 2 == 0 else 'b'\n",
    "    return turn, prevBoard, bot, our\n"
   ]
  },
  {
   "cell_type": "code",
   "execution_count": 18,
   "metadata": {},
   "outputs": [
    {
     "name": "stdout",
     "output_type": "stream",
     "text": [
      "     0 1 2 3 4 5 6 7\n",
      "    -----------------\n",
      "0 | [0 1 0 1 0 1 0 1]\n",
      "1 | [1 0 1 0 1 0 1 0]\n",
      "2 | [0 3 0 0 0 0 0 0]\n",
      "3 | [0 0 0 0 0 0 0 0]\n",
      "4 | [0 0 0 0 0 0 0 0]\n",
      "5 | [0 0 0 0 0 0 0 0]\n",
      "6 | [0 2 0 2 0 2 0 2]\n",
      "7 | [2 0 2 0 2 0 2 0]\n",
      "2 1\n"
     ]
    }
   ],
   "source": [
    "import numpy as np\n",
    "testBoard = np.array([[0, 1, 0, 1, 0, 1, 0, 1],\n",
    "                    [1, 0, 1, 0, 1, 0, 1, 0],\n",
    "                    [0, 3, 0, 0, 0, 0, 0, 0],\n",
    "                    [0, 0, 0, 0, 0, 0, 0, 0],\n",
    "                    [0, 0, 0, 0, 0, 0, 0, 0],\n",
    "                    [0, 0, 0, 0, 0, 0, 0, 0],\n",
    "                    [0, 2, 0, 2, 0, 2, 0, 2],\n",
    "                    [2, 0, 2, 0, 2, 0, 2, 0]])\n",
    "\n",
    "print(\"     0 1 2 3 4 5 6 7\")\n",
    "print(\"    -----------------\")\n",
    "for idx, row in enumerate(testBoard):\n",
    "    print(f\"{idx} | {row}\")\n",
    "\n",
    "print(np.where(testBoard == 3)[0][0], np.where(testBoard == 3)[1][0])"
   ]
  },
  {
   "cell_type": "code",
   "execution_count": 19,
   "metadata": {},
   "outputs": [
    {
     "name": "stdout",
     "output_type": "stream",
     "text": [
      "[0 2 0 2 0 2 0 2]\n",
      "[2 0 2 0 2 0 2 0]\n",
      "[0 0 0 0 0 0 0 0]\n",
      "[0 0 0 0 0 0 0 0]\n",
      "[0 0 0 0 0 0 0 0]\n",
      "[0 0 0 0 0 0 3 0]\n",
      "[0 1 0 1 0 1 0 1]\n",
      "[1 0 1 0 1 0 1 0]\n",
      "5 6\n"
     ]
    }
   ],
   "source": [
    "flipBoard = np.flip(testBoard, 0)\n",
    "flipBoard = np.flip(flipBoard, 1)\n",
    "for row in flipBoard:\n",
    "    print(row)\n",
    "print(np.where(flipBoard == 3)[0][0], np.where(flipBoard == 3)[1][0])"
   ]
  },
  {
   "cell_type": "code",
   "execution_count": 20,
   "metadata": {},
   "outputs": [
    {
     "data": {
      "text/plain": [
       "((3, 1), (2, 0))"
      ]
     },
     "execution_count": 20,
     "metadata": {},
     "output_type": "execute_result"
    }
   ],
   "source": [
    "data = '3;1,2;0'\n",
    "selectedPiece, move = data.split(',')\n",
    "selectedPiece = tuple(map(int, selectedPiece.split(';')))\n",
    "move = tuple(map(int, move.split(';')))\n",
    "\n",
    "selectedPiece, move"
   ]
  },
  {
   "cell_type": "code",
   "execution_count": 21,
   "metadata": {},
   "outputs": [
    {
     "data": {
      "text/plain": [
       "'3;1,2;0'"
      ]
     },
     "execution_count": 21,
     "metadata": {},
     "output_type": "execute_result"
    }
   ],
   "source": [
    "selectedPiece = f\"{selectedPiece[0]};{selectedPiece[1]}\"\n",
    "move = f\"{move[0]};{move[1]}\"\n",
    "data = f\"{selectedPiece},{move}\"\n",
    "data"
   ]
  },
  {
   "cell_type": "code",
   "execution_count": 22,
   "metadata": {},
   "outputs": [
    {
     "name": "stdout",
     "output_type": "stream",
     "text": [
      "Game started\n",
      "Checkers board not detected\n",
      "Game not ended\n",
      "Checkers board not detected\n",
      "Game not ended\n",
      "Checkers board not detected\n",
      "Game not ended\n",
      "Checkers board not detected\n",
      "Game not ended\n",
      "Checkers board not detected\n",
      "Game not ended\n",
      "Checkers board not detected\n",
      "Game not ended\n",
      "Checkers board not detected\n",
      "Game not ended\n",
      "Checkers board not detected\n",
      "Game not ended\n",
      "Checkers board not detected\n",
      "Game not ended\n",
      "Checkers board not detected\n",
      "Game not ended\n",
      "Checkers board not detected\n",
      "Game not ended\n",
      "Checkers board not detected\n",
      "Game not ended\n",
      "Checkers board not detected\n",
      "Game not ended\n",
      "Checkers board not detected\n",
      "Game not ended\n",
      "Checkers board not detected\n",
      "Game not ended\n",
      "Checkers board not detected\n",
      "Game not ended\n",
      "Checkers board not detected\n",
      "Game not ended\n",
      "Checkers board not detected\n",
      "Game not ended\n",
      "Checkers board not detected\n",
      "Game not ended\n",
      "Checkers board not detected\n",
      "Game not ended\n",
      "Checkers board not detected\n",
      "Game not ended\n",
      "Checkers board not detected\n",
      "Game not ended\n",
      "Checkers board not detected\n",
      "Game not ended\n",
      "Checkers board not detected\n",
      "Game not ended\n",
      "Checkers board not detected\n",
      "Game not ended\n",
      "Checkers board not detected\n",
      "Game ended\n",
      "Game started\n",
      "Checkers board not detected\n",
      "Game ended\n",
      "Game started\n",
      "Checkers board detected\n",
      "Checkers board detected\n",
      "Checkers board detected\n",
      "Checkers board detected\n",
      "Checkers board detected\n",
      "Checkers board detected\n",
      "Checkers board detected\n",
      "Checkers board detected\n",
      "Checkers board detected\n",
      "Checkers board detected\n",
      "Checkers board detected\n",
      "Checkers board detected\n",
      "Checkers board detected\n",
      "Checkers board detected\n",
      "Checkers board detected\n",
      "Checkers board detected\n",
      "Checkers board detected\n",
      "Checkers board detected\n",
      "Checkers board detected\n",
      "Checkers board detected\n",
      "Checkers board detected\n",
      "Checkers board detected\n",
      "Checkers board detected\n",
      "Checkers board detected\n",
      "Checkers board detected\n",
      "Checkers board detected\n",
      "Checkers board detected\n",
      "Checkers board detected\n",
      "Checkers board detected\n",
      "Checkers board detected\n",
      "Checkers board detected\n",
      "Checkers board detected\n",
      "Checkers board detected\n",
      "Checkers board detected\n",
      "Checkers board detected\n",
      "Checkers board detected\n",
      "Checkers board detected\n",
      "Checkers board detected\n",
      "Checkers board detected\n",
      "Checkers board detected\n",
      "Checkers board detected\n",
      "Checkers board detected\n",
      "Checkers board detected\n",
      "Checkers board detected\n",
      "Checkers board detected\n",
      "Checkers board detected\n",
      "Checkers board detected\n",
      "Checkers board detected\n",
      "Checkers board detected\n",
      "Checkers board detected\n",
      "Checkers board detected\n",
      "Checkers board detected\n",
      "Checkers board detected\n",
      "Checkers board detected\n",
      "Checkers board detected\n",
      "Checkers board detected\n",
      "Checkers board detected\n",
      "Checkers board detected\n",
      "Checkers board detected\n",
      "Checkers board detected\n",
      "Checkers board detected\n",
      "Checkers board detected\n",
      "Checkers board detected\n",
      "Checkers board detected\n",
      "Checkers board detected\n",
      "Checkers board detected\n",
      "Checkers board detected\n",
      "Checkers board detected\n",
      "Checkers board detected\n",
      "Checkers board detected\n",
      "Checkers board detected\n",
      "Checkers board detected\n",
      "Checkers board detected\n",
      "Checkers board detected\n",
      "Checkers board detected\n",
      "Checkers board detected\n",
      "Checkers board detected\n",
      "Checkers board detected\n",
      "Checkers board detected\n",
      "Checkers board detected\n",
      "Checkers board detected\n",
      "Checkers board detected\n",
      "Checkers board detected\n",
      "Checkers board detected\n",
      "Checkers board detected\n",
      "Checkers board detected\n",
      "Checkers board detected\n",
      "Checkers board detected\n",
      "Checkers board detected\n",
      "Checkers board detected\n"
     ]
    }
   ],
   "source": [
    "import os\n",
    "pickerwindowBG = np.zeros((300, 512, 3), np.uint8)\n",
    "hsvColorSlider()\n",
    "(hmin, hmax, smin, smax, vmin, vmax) = getHSV()\n",
    "cv.imshow('HSV Color Slider', pickerwindowBG)\n",
    "\n",
    "# hue_min = 0\n",
    "# hue_max = 179\n",
    "# sat_min = 0\n",
    "# sat_max = 255\n",
    "# val_min = 124\n",
    "# val_max = 255\n",
    "\n",
    "numGames = 0\n",
    "startedFlag = False\n",
    "\n",
    "clear = lambda: os.system('cls')\n",
    "\n",
    "while numGames < 50:\n",
    "    if startedFlag == False:\n",
    "        print(\"Game started\")\n",
    "        startedFlag = True\n",
    "        turn, prevBoard, bot, our = initGame(numGames)\n",
    "\n",
    "    # print(bot, our, numGames)\n",
    "\n",
    "    screen = ImageGrab.grab(all_screens=True)\n",
    "    # print(f\"Resolution: {screen.size}, Mode: {screen.mode}, Format: {screen.format}\")\n",
    "\n",
    "    # screen right : (1920, 0, 3840, 1080)\n",
    "    # screen left : (0, 0, 1920, 1080)\n",
    "\n",
    "    # screen = screen.crop((1920, 0, 3840, 1080))\n",
    "    screen = np.array(screen)\n",
    "\n",
    "    screen_binary = convert_to_binary(screen)\n",
    "    ret, corners = detect_checkers_board(screen)\n",
    "    screen = cv.cvtColor(screen, cv.COLOR_BGR2RGB)\n",
    "\n",
    "    if ret:\n",
    "        print(\"Checkers board detected\")\n",
    "        screen_binary = cv.cvtColor(screen_binary, cv.COLOR_GRAY2RGB)\n",
    "\n",
    "        currBoard, _ = getBoardState(screen_binary, corners)\n",
    "        # get the pieces\n",
    "        pieces = detect_pieces(screen_binary, corners)\n",
    "        # print(len(pieces), pieces)\n",
    "        for piece in pieces:\n",
    "            x, y, w, h = piece\n",
    "            cv.rectangle(screen_binary, (x, y), (x+w, y+h), (0, 255, 0), 2)\n",
    "        \n",
    "        # update board state\n",
    "        # newBoard, sorted_pieces = update_board_state(screen_binary, corners)\n",
    "        # if turn == bot:\n",
    "        #     selected, move = getMove(prevBoard, newBoard)\n",
    "\n",
    "        screen_binary = crop_board(screen_binary, corners)\n",
    "        \n",
    "        cv.imshow('screen_binary', screen_binary)\n",
    "\n",
    "        # clear()\n",
    "        # for row in currBoard:\n",
    "        #     print(row)\n",
    "    else:\n",
    "        print(\"Checkers board not detected\")\n",
    "        # check game end\n",
    "        endimg = cv.imread('end.png')\n",
    "        matchinfo = match_images(screen, endimg)\n",
    "        loc, w, h = matchinfo\n",
    "        if loc[0].size > 0:\n",
    "            print(\"Game ended\")\n",
    "            for pt in zip(*loc[::-1]):\n",
    "                cv.rectangle(screen, pt, (pt[0] + w, pt[1] + h), (0, 0, 255), 2)\n",
    "            \n",
    "            # reset the board\n",
    "            pyautogui.moveTo(loc[1][-1] + 200, loc[0][-1] + 310)\n",
    "            pyautogui.click()\n",
    "            numGames += 1\n",
    "            startedFlag = False\n",
    "\n",
    "        else:\n",
    "            print(\"Game not ended\")\n",
    "    # show screen\n",
    "    # cv.imshow('screen', screen)\n",
    "\n",
    "    if cv.waitKey(1) & 0xFF == ord('q'):\n",
    "        break\n",
    "cv.destroyAllWindows()"
   ]
  },
  {
   "cell_type": "code",
   "execution_count": 23,
   "metadata": {},
   "outputs": [
    {
     "name": "stdout",
     "output_type": "stream",
     "text": [
      "Top left: (1249.494, 259.57684), Top right: (1753.0778, 259.9861), Bottom left: (1249.494, 763.8835), Bottom right: (1752.5414, 764.1605)\n",
      "((1280.8535766601562, 353.55682373046875), 62.719116, 62.65332)\n"
     ]
    }
   ],
   "source": [
    "# get the board corners\n",
    "if corners is not None:\n",
    "    top_left, top_right, bottom_left, bottom_right = get_board_corners(corners)\n",
    "    print(f\"Top left: {top_left}, Top right: {top_right}, Bottom left: {bottom_left}, Bottom right: {bottom_right}\")\n",
    "    coords = get_board_squares((1, 0), corners)\n",
    "    print(coords)"
   ]
  },
  {
   "cell_type": "code",
   "execution_count": 24,
   "metadata": {},
   "outputs": [
    {
     "name": "stdout",
     "output_type": "stream",
     "text": [
      "Square 0, 0: (1280.8535766601562, 290.90350341796875), 62.7191162109375, 62.6533203125\n",
      "Square 0, 1: (1343.5726928710938, 290.90350341796875), 62.7191162109375, 62.6533203125\n",
      "Square 0, 2: (1406.2918090820312, 290.90350341796875), 62.7191162109375, 62.6533203125\n",
      "Square 0, 3: (1469.0109252929688, 290.90350341796875), 62.7191162109375, 62.6533203125\n",
      "Square 0, 4: (1531.7300415039062, 290.90350341796875), 62.7191162109375, 62.6533203125\n",
      "Square 0, 5: (1594.4491577148438, 290.90350341796875), 62.7191162109375, 62.6533203125\n",
      "Square 0, 6: (1657.1682739257812, 290.90350341796875), 62.7191162109375, 62.6533203125\n",
      "Square 0, 7: (1719.8873901367188, 290.90350341796875), 62.7191162109375, 62.6533203125\n",
      "Square 1, 0: (1280.8535766601562, 353.55682373046875), 62.7191162109375, 62.6533203125\n",
      "Square 1, 1: (1343.5726928710938, 353.55682373046875), 62.7191162109375, 62.6533203125\n",
      "Square 1, 2: (1406.2918090820312, 353.55682373046875), 62.7191162109375, 62.6533203125\n",
      "Square 1, 3: (1469.0109252929688, 353.55682373046875), 62.7191162109375, 62.6533203125\n",
      "Square 1, 4: (1531.7300415039062, 353.55682373046875), 62.7191162109375, 62.6533203125\n",
      "Square 1, 5: (1594.4491577148438, 353.55682373046875), 62.7191162109375, 62.6533203125\n",
      "Square 1, 6: (1657.1682739257812, 353.55682373046875), 62.7191162109375, 62.6533203125\n",
      "Square 1, 7: (1719.8873901367188, 353.55682373046875), 62.7191162109375, 62.6533203125\n",
      "Square 2, 0: (1280.8535766601562, 416.21014404296875), 62.7191162109375, 62.6533203125\n",
      "Square 2, 1: (1343.5726928710938, 416.21014404296875), 62.7191162109375, 62.6533203125\n",
      "Square 2, 2: (1406.2918090820312, 416.21014404296875), 62.7191162109375, 62.6533203125\n",
      "Square 2, 3: (1469.0109252929688, 416.21014404296875), 62.7191162109375, 62.6533203125\n",
      "Square 2, 4: (1531.7300415039062, 416.21014404296875), 62.7191162109375, 62.6533203125\n",
      "Square 2, 5: (1594.4491577148438, 416.21014404296875), 62.7191162109375, 62.6533203125\n",
      "Square 2, 6: (1657.1682739257812, 416.21014404296875), 62.7191162109375, 62.6533203125\n",
      "Square 2, 7: (1719.8873901367188, 416.21014404296875), 62.7191162109375, 62.6533203125\n",
      "Square 3, 0: (1280.8535766601562, 478.86346435546875), 62.7191162109375, 62.6533203125\n",
      "Square 3, 1: (1343.5726928710938, 478.86346435546875), 62.7191162109375, 62.6533203125\n",
      "Square 3, 2: (1406.2918090820312, 478.86346435546875), 62.7191162109375, 62.6533203125\n",
      "Square 3, 3: (1469.0109252929688, 478.86346435546875), 62.7191162109375, 62.6533203125\n",
      "Square 3, 4: (1531.7300415039062, 478.86346435546875), 62.7191162109375, 62.6533203125\n",
      "Square 3, 5: (1594.4491577148438, 478.86346435546875), 62.7191162109375, 62.6533203125\n",
      "Square 3, 6: (1657.1682739257812, 478.86346435546875), 62.7191162109375, 62.6533203125\n",
      "Square 3, 7: (1719.8873901367188, 478.86346435546875), 62.7191162109375, 62.6533203125\n",
      "Square 4, 0: (1280.8535766601562, 541.5167846679688), 62.7191162109375, 62.6533203125\n",
      "Square 4, 1: (1343.5726928710938, 541.5167846679688), 62.7191162109375, 62.6533203125\n",
      "Square 4, 2: (1406.2918090820312, 541.5167846679688), 62.7191162109375, 62.6533203125\n",
      "Square 4, 3: (1469.0109252929688, 541.5167846679688), 62.7191162109375, 62.6533203125\n",
      "Square 4, 4: (1531.7300415039062, 541.5167846679688), 62.7191162109375, 62.6533203125\n",
      "Square 4, 5: (1594.4491577148438, 541.5167846679688), 62.7191162109375, 62.6533203125\n",
      "Square 4, 6: (1657.1682739257812, 541.5167846679688), 62.7191162109375, 62.6533203125\n",
      "Square 4, 7: (1719.8873901367188, 541.5167846679688), 62.7191162109375, 62.6533203125\n",
      "Square 5, 0: (1280.8535766601562, 604.1701049804688), 62.7191162109375, 62.6533203125\n",
      "Square 5, 1: (1343.5726928710938, 604.1701049804688), 62.7191162109375, 62.6533203125\n",
      "Square 5, 2: (1406.2918090820312, 604.1701049804688), 62.7191162109375, 62.6533203125\n",
      "Square 5, 3: (1469.0109252929688, 604.1701049804688), 62.7191162109375, 62.6533203125\n",
      "Square 5, 4: (1531.7300415039062, 604.1701049804688), 62.7191162109375, 62.6533203125\n",
      "Square 5, 5: (1594.4491577148438, 604.1701049804688), 62.7191162109375, 62.6533203125\n",
      "Square 5, 6: (1657.1682739257812, 604.1701049804688), 62.7191162109375, 62.6533203125\n",
      "Square 5, 7: (1719.8873901367188, 604.1701049804688), 62.7191162109375, 62.6533203125\n",
      "Square 6, 0: (1280.8535766601562, 666.8234252929688), 62.7191162109375, 62.6533203125\n",
      "Square 6, 1: (1343.5726928710938, 666.8234252929688), 62.7191162109375, 62.6533203125\n",
      "Square 6, 2: (1406.2918090820312, 666.8234252929688), 62.7191162109375, 62.6533203125\n",
      "Square 6, 3: (1469.0109252929688, 666.8234252929688), 62.7191162109375, 62.6533203125\n",
      "Square 6, 4: (1531.7300415039062, 666.8234252929688), 62.7191162109375, 62.6533203125\n",
      "Square 6, 5: (1594.4491577148438, 666.8234252929688), 62.7191162109375, 62.6533203125\n",
      "Square 6, 6: (1657.1682739257812, 666.8234252929688), 62.7191162109375, 62.6533203125\n",
      "Square 6, 7: (1719.8873901367188, 666.8234252929688), 62.7191162109375, 62.6533203125\n",
      "Square 7, 0: (1280.8535766601562, 729.4767456054688), 62.7191162109375, 62.6533203125\n",
      "Square 7, 1: (1343.5726928710938, 729.4767456054688), 62.7191162109375, 62.6533203125\n",
      "Square 7, 2: (1406.2918090820312, 729.4767456054688), 62.7191162109375, 62.6533203125\n",
      "Square 7, 3: (1469.0109252929688, 729.4767456054688), 62.7191162109375, 62.6533203125\n",
      "Square 7, 4: (1531.7300415039062, 729.4767456054688), 62.7191162109375, 62.6533203125\n",
      "Square 7, 5: (1594.4491577148438, 729.4767456054688), 62.7191162109375, 62.6533203125\n",
      "Square 7, 6: (1657.1682739257812, 729.4767456054688), 62.7191162109375, 62.6533203125\n",
      "Square 7, 7: (1719.8873901367188, 729.4767456054688), 62.7191162109375, 62.6533203125\n"
     ]
    }
   ],
   "source": [
    "if corners is not None:\n",
    "    for i in range(8):\n",
    "        for j in range(8):\n",
    "            coords, x_delta, y_delta = get_board_squares((i, j), corners)\n",
    "            print(f\"Square {i}, {j}: {coords}, {x_delta}, {y_delta}\")\n",
    "            # pyautogui.moveTo(coords)"
   ]
  },
  {
   "cell_type": "code",
   "execution_count": 25,
   "metadata": {},
   "outputs": [
    {
     "name": "stdout",
     "output_type": "stream",
     "text": [
      "16\n",
      "[(1261, 334, 41, 42), (1263, 715, 35, 32), (1323, 270, 42, 42), (1326, 653, 35, 31), (1386, 334, 42, 41), (1389, 717, 35, 30), (1449, 270, 42, 42), (1452, 654, 35, 32), (1512, 334, 42, 42), (1515, 716, 32, 31), (1575, 270, 42, 42), (1578, 654, 32, 32), (1638, 334, 41, 42), (1641, 716, 32, 33), (1701, 270, 41, 42), (1704, 653, 32, 31)]\n",
      "(1575, 270, 42, 42)\n"
     ]
    }
   ],
   "source": [
    "list = pieces.copy()\n",
    "print(len(list))\n",
    "# list = sorted(list, key=lambda x: x[0])\n",
    "list = sorted(list, key=lambda x: x[0])\n",
    "print(list)\n",
    "print(list[10])"
   ]
  },
  {
   "cell_type": "code",
   "execution_count": 26,
   "metadata": {},
   "outputs": [],
   "source": [
    "pyautogui.moveTo(list[8][0], list[8][1])"
   ]
  },
  {
   "cell_type": "code",
   "execution_count": 27,
   "metadata": {},
   "outputs": [
    {
     "ename": "TypeError",
     "evalue": "append() takes exactly one argument (3 given)",
     "output_type": "error",
     "traceback": [
      "\u001b[1;31m---------------------------------------------------------------------------\u001b[0m",
      "\u001b[1;31mTypeError\u001b[0m                                 Traceback (most recent call last)",
      "Cell \u001b[1;32mIn[27], line 12\u001b[0m\n\u001b[0;32m     10\u001b[0m \u001b[38;5;28;01mif\u001b[39;00m coords[\u001b[38;5;241m0\u001b[39m] \u001b[38;5;241m-\u001b[39m x_delta\u001b[38;5;241m/\u001b[39m\u001b[38;5;241m2\u001b[39m \u001b[38;5;241m<\u001b[39m x \u001b[38;5;241m<\u001b[39m coords[\u001b[38;5;241m0\u001b[39m] \u001b[38;5;241m+\u001b[39m x_delta\u001b[38;5;241m/\u001b[39m\u001b[38;5;241m2\u001b[39m \u001b[38;5;129;01mand\u001b[39;00m coords[\u001b[38;5;241m1\u001b[39m] \u001b[38;5;241m-\u001b[39m y_delta\u001b[38;5;241m/\u001b[39m\u001b[38;5;241m2\u001b[39m \u001b[38;5;241m<\u001b[39m y \u001b[38;5;241m<\u001b[39m coords[\u001b[38;5;241m1\u001b[39m] \u001b[38;5;241m+\u001b[39m y_delta\u001b[38;5;241m/\u001b[39m\u001b[38;5;241m2\u001b[39m:\n\u001b[0;32m     11\u001b[0m     board[row][col] \u001b[38;5;241m=\u001b[39m \u001b[38;5;241m1\u001b[39m\n\u001b[1;32m---> 12\u001b[0m     \u001b[43msorted_pieces\u001b[49m\u001b[38;5;241;43m.\u001b[39;49m\u001b[43mappend\u001b[49m\u001b[43m(\u001b[49m\u001b[43mpiece\u001b[49m\u001b[43m,\u001b[49m\u001b[43m \u001b[49m\u001b[43msquare\u001b[49m\u001b[43m,\u001b[49m\u001b[43m \u001b[49m\u001b[43mcoords\u001b[49m\u001b[43m)\u001b[49m\n\u001b[0;32m     13\u001b[0m     \u001b[38;5;28mprint\u001b[39m(idx, piece, coords, square)\n\u001b[0;32m     14\u001b[0m     \u001b[38;5;28;01mbreak\u001b[39;00m\n",
      "\u001b[1;31mTypeError\u001b[0m: append() takes exactly one argument (3 given)"
     ]
    }
   ],
   "source": [
    "# register the pieces to the board matrix\n",
    "board = np.zeros((8, 8), dtype=int)\n",
    "sorted_pieces = []\n",
    "for row in range(8):\n",
    "    for col in range(8):\n",
    "        square = (row, col)\n",
    "        coords, x_delta, y_delta = get_board_squares(square, corners)\n",
    "        for idx, piece in enumerate(pieces):\n",
    "            x, y, _, _ = piece\n",
    "            if coords[0] - x_delta/2 < x < coords[0] + x_delta/2 and coords[1] - y_delta/2 < y < coords[1] + y_delta/2:\n",
    "                board[row][col] = 1\n",
    "                sorted_pieces.append(piece, square, coords)\n",
    "                print(idx, piece, coords, square)\n",
    "                break\n",
    "                # pyautogui.moveTo((coords[0] - x_delta/2, coords[1] - y_delta/2), duration=0.25)\n",
    "                # pyautogui.moveTo((coords[0] + x_delta/2, coords[1] + y_delta/2), duration=0.25)\n",
    "\n",
    "\n",
    "for row in board:\n",
    "    print(row)"
   ]
  },
  {
   "cell_type": "code",
   "execution_count": null,
   "metadata": {},
   "outputs": [
    {
     "name": "stdout",
     "output_type": "stream",
     "text": [
      "[(784.0, 310.0), (910.0, 310.0), (1037.0, 310.0), (1163.0, 310.0), (720.5, 373.0), (973.5, 373.0), (1100.0, 373.0), (910.0, 436.5), (1099.5, 624.0), (909.5, 687.5), (783.0, 689.5), (1036.0, 689.5), (720.5, 750.5), (847.0, 751.0), (973.5, 750.5), (1100.0, 751.0)]\n"
     ]
    }
   ],
   "source": [
    "newcoords = []\n",
    "for coords in list:\n",
    "    x, y, w, h = coords\n",
    "    pyautogui.moveTo(x + w/2, y + h/2)\n",
    "    newcoords.append((x + w/2, y + h/2))\n",
    "print(newcoords)"
   ]
  }
 ],
 "metadata": {
  "kernelspec": {
   "display_name": "dl-env",
   "language": "python",
   "name": "python3"
  },
  "language_info": {
   "codemirror_mode": {
    "name": "ipython",
    "version": 3
   },
   "file_extension": ".py",
   "mimetype": "text/x-python",
   "name": "python",
   "nbconvert_exporter": "python",
   "pygments_lexer": "ipython3",
   "version": "3.8.16"
  }
 },
 "nbformat": 4,
 "nbformat_minor": 2
}
