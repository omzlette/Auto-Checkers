{
 "cells": [
  {
   "cell_type": "code",
   "execution_count": 2,
   "metadata": {},
   "outputs": [],
   "source": [
    "import pygame\n",
    "from pygame.locals import *\n",
    "from checkers import *\n",
    "from player import *"
   ]
  },
  {
   "cell_type": "code",
   "execution_count": 3,
   "metadata": {},
   "outputs": [
    {
     "ename": "TypeError",
     "evalue": "is_game_over() missing 1 required positional argument: 'movesDone'",
     "output_type": "error",
     "traceback": [
      "\u001b[1;31m---------------------------------------------------------------------------\u001b[0m",
      "\u001b[1;31mTypeError\u001b[0m                                 Traceback (most recent call last)",
      "Cell \u001b[1;32mIn[3], line 23\u001b[0m\n\u001b[0;32m     20\u001b[0m nummoves \u001b[38;5;241m=\u001b[39m \u001b[38;5;241m0\u001b[39m\n\u001b[0;32m     22\u001b[0m \u001b[38;5;28;01mwhile\u001b[39;00m running:\n\u001b[1;32m---> 23\u001b[0m     isGameOver \u001b[38;5;241m=\u001b[39m \u001b[43mis_game_over\u001b[49m\u001b[43m(\u001b[49m\u001b[43mboard\u001b[49m\u001b[38;5;241;43m.\u001b[39;49m\u001b[43mboard\u001b[49m\u001b[43m,\u001b[49m\u001b[43m \u001b[49m\u001b[43mboard\u001b[49m\u001b[38;5;241;43m.\u001b[39;49m\u001b[43mmovesDone\u001b[49m\u001b[43m)\u001b[49m\n\u001b[0;32m     25\u001b[0m     board\u001b[38;5;241m.\u001b[39mscreen\u001b[38;5;241m.\u001b[39mfill(BROWN)\n\u001b[0;32m     26\u001b[0m     board\u001b[38;5;241m.\u001b[39mdraw_board()\n",
      "\u001b[1;31mTypeError\u001b[0m: is_game_over() missing 1 required positional argument: 'movesDone'"
     ]
    }
   ],
   "source": [
    "board = Checkers()\n",
    "\n",
    "testBoard =[['-', '-', '-', '-', '-', 'W', '-', '-'],\n",
    "            ['-', '-', '-', '-', '-', '-', '-', '-'],\n",
    "            ['-', '-', '-', '-', '-', '-', '-', '-'],\n",
    "            ['-', '-', 'b', '-', '-', '-', '-', '-'],\n",
    "            ['-', '-', '-', '-', '-', '-', '-', '-'],\n",
    "            ['-', '-', '-', '-', '-', '-', '-', '-'],\n",
    "            ['-', 'w', '-', '-', '-', 'b', '-', '-'],\n",
    "            ['-', '-', '-', '-', '-', '-', '-', '-']]\n",
    "\n",
    "board.board = testBoard\n",
    "board.prevBoard = copy.deepcopy(board.board)\n",
    "\n",
    "player1 = User('b', board.board, board.movesDone)\n",
    "player2 = AlphaBeta('w', board.board, board.movesDone)\n",
    "\n",
    "isGameOver = False\n",
    "running = True\n",
    "nummoves = 0\n",
    "\n",
    "while running:\n",
    "    isGameOver = is_game_over(board.board, board.movesDone)\n",
    "\n",
    "    board.screen.fill(BROWN)\n",
    "    board.draw_board()\n",
    "    board.draw_pieces()\n",
    "    board.debug_text()\n",
    "    pygame.display.flip()\n",
    "\n",
    "    if not isGameOver:\n",
    "        if board.turn == 'b':\n",
    "            if player1.user:\n",
    "                for event in pygame.event.get():\n",
    "                    if event.type == pygame.QUIT or (event.type == pygame.KEYDOWN and event.key == pygame.K_ESCAPE):\n",
    "                        print('Early Exiting...')\n",
    "                        running = False\n",
    "                    if event.type == pygame.MOUSEBUTTONDOWN:\n",
    "                        row, col = player1.get_mouse_pos()\n",
    "                        board.board, board.turn, selectedPiece = player1.handle_mouse_click(row, col, board.board)\n",
    "                        player1.turn = board.turn\n",
    "                        player2.turn = board.turn\n",
    "\n",
    "            else:\n",
    "                bestPiece, bestMove = player1.play(board.board)\n",
    "                if bestPiece is not None and bestMove is not None:\n",
    "                    player1.prevCount = countBlack(board.board) + countWhite(board.board)\n",
    "                    board.board, board.turn = player1.update_board(board.board, bestPiece, bestMove)\n",
    "                    player1.turn = board.turn\n",
    "                    player2.turn = board.turn\n",
    "            \n",
    "        elif board.turn == 'w':\n",
    "            if player2.user:\n",
    "                for event in pygame.event.get():\n",
    "                    if event.type == pygame.QUIT or (event.type == pygame.KEYDOWN and event.key == pygame.K_ESCAPE):\n",
    "                        print('Early Exiting...')\n",
    "                        running = False\n",
    "                    if event.type == pygame.MOUSEBUTTONDOWN:\n",
    "                        row, col = player2.get_mouse_pos()\n",
    "                        board.board, board.turn, selectedPiece = player2.handle_mouse_click(row, col, board.board)\n",
    "                        player1.turn = board.turn\n",
    "                        player2.turn = board.turn\n",
    "\n",
    "            else:\n",
    "                bestPiece, bestMove = player2.play(board.board)\n",
    "                if bestPiece is not None and bestMove is not None:\n",
    "                    player2.prevCount = countBlack(board.board) + countWhite(board.board)\n",
    "                    board.board, board.turn = player2.update_board(board.board, bestPiece, bestMove)\n",
    "                    player1.turn = board.turn\n",
    "                    player2.turn = board.turn\n",
    "\n",
    "        if board.board != board.prevBoard:\n",
    "            nummoves += 1\n",
    "            board.prevBoard = copy.deepcopy(board.board)\n",
    "            if board.turn == 'w':\n",
    "                board.updateMovesDict(tuple(selectedPiece), (row, col), 'b')\n",
    "            else:\n",
    "                board.updateMovesDict(tuple(bestPiece), tuple(bestMove), 'w')\n",
    "            print('Moves Done:', board.movesDone)\n",
    "            print('Moves:', nummoves, 'Turn:', board.turn)\n",
    "\n",
    "    for event in pygame.event.get():\n",
    "        if event.type == pygame.QUIT or (event.type == pygame.KEYDOWN and event.key == pygame.K_ESCAPE):\n",
    "            running = False\n",
    "            if countBlack(board.board) > countWhite(board.board) or isGameOver == 'b':\n",
    "                print('Game Over, Winner: Black')\n",
    "            elif countBlack(board.board) < countWhite(board.board) or isGameOver == 'w':\n",
    "                print('Game Over, Winner: White')\n",
    "            else:\n",
    "                print('Game Over, Draw')\n",
    "        if event.type == pygame.KEYDOWN and event.key == pygame.K_r:\n",
    "            if countBlack(board.board) > countWhite(board.board) or isGameOver == 'b':\n",
    "                print('Game Over, Winner: Black')\n",
    "            elif countBlack(board.board) < countWhite(board.board) or isGameOver == 'w':\n",
    "                print('Game Over, Winner: White')\n",
    "            else:\n",
    "                print('Game Over, Draw')\n",
    "            print('Restarting...')\n",
    "\n",
    "pygame.quit()"
   ]
  },
  {
   "cell_type": "code",
   "execution_count": null,
   "metadata": {},
   "outputs": [
    {
     "name": "stdout",
     "output_type": "stream",
     "text": [
      "0b1000000\n"
     ]
    }
   ],
   "source": [
    "testByte = 0b00000000\n",
    "\n",
    "testByte = testByte ^ (0b10000000 >> 1)\n",
    "print(bin(testByte))"
   ]
  },
  {
   "cell_type": "code",
   "execution_count": null,
   "metadata": {},
   "outputs": [
    {
     "name": "stdout",
     "output_type": "stream",
     "text": [
      "0b1000000\n",
      "0b10000\n",
      "0b100\n",
      "0b1\n",
      "0b10000000\n",
      "0b100000\n",
      "0b1000\n",
      "0b10\n",
      "0b1000000\n",
      "0b10000\n",
      "0b100\n",
      "0b1\n",
      "0b10000000\n",
      "0b100000\n",
      "0b1000\n",
      "0b10\n"
     ]
    }
   ],
   "source": [
    "for i in range(16):\n",
    "    if (i // 4) % 2 == 0:\n",
    "        print(bin(0 | (128 >> ((i % 4) * 2) + 1)))\n",
    "        pass\n",
    "    else:\n",
    "        print(bin(0 | (128 >> ((i % 4) * 2))))\n",
    "        # print(i % 4)\n",
    "        # pass"
   ]
  },
  {
   "cell_type": "code",
   "execution_count": 17,
   "metadata": {},
   "outputs": [
    {
     "name": "stdout",
     "output_type": "stream",
     "text": [
      "b'\\x0f\\xf0' 2\n",
      "15\n",
      "b'\\x0f\\xf0'\n",
      "0b1111\n",
      "0b1111\n"
     ]
    }
   ],
   "source": [
    "testByte = 0b00001111\n",
    "testByte2 = 0b11110000\n",
    "\n",
    "multiByte = bytes([testByte, testByte2])\n",
    "\n",
    "print(multiByte, len(multiByte))\n",
    "print(testByte)\n",
    "print(bytes([testByte, testByte2]))\n",
    "\n",
    "print(bin(testByte))\n",
    "print(str(bin(testByte)))"
   ]
  },
  {
   "cell_type": "code",
   "execution_count": 2,
   "metadata": {},
   "outputs": [
    {
     "name": "stdout",
     "output_type": "stream",
     "text": [
      "Board Bytes:\n",
      "[0, 1, 0, 1, 0, 1, 0, 1]\n",
      "[1, 0, 1, 0, 1, 0, 1, 0]\n",
      "[0, 0, 0, 0, 0, 1, 0, 0]\n",
      "[0, 0, 0, 0, 0, 0, 0, 0]\n",
      "[0, 0, 0, 0, 0, 0, 0, 0]\n",
      "[0, 0, 0, 0, 0, 0, 0, 0]\n",
      "[0, 1, 0, 1, 0, 1, 0, 1]\n",
      "[1, 0, 1, 0, 1, 0, 1, 0]\n"
     ]
    }
   ],
   "source": [
    "testBytes = bytes([0b01010101, 0b10101010, 0b00000100, 0b00000000, 0b00000000, 0b00000000, 0b01010101, 0b10101010])\n",
    "byteboard = [[0 for i in range(8)] for j in range(8)]\n",
    "# print(byteboard)\n",
    "\n",
    "board = [['-', 'b', '-', 'b', '-', 'b', '-', 'b'],\n",
    "         ['b', '-', 'b', '-', 'b', '-', 'b', '-'],\n",
    "         ['-', '-', '-', '-', '-', '-', '-', '-'],\n",
    "         ['-', '-', '-', '-', '-', '-', '-', '-'],\n",
    "         ['-', '-', '-', '-', '-', '-', '-', '-'],\n",
    "         ['-', '-', '-', '-', '-', '-', '-', '-'],\n",
    "         ['-', 'w', '-', 'w', '-', 'w', '-', 'w'],\n",
    "         ['w', '-', 'w', '-', 'w', '-', 'w', '-']]\n",
    "\n",
    "# for row, byte in enumerate(testBytes):\n",
    "#     for col in range(8):\n",
    "#         if byte & (128 >> col):\n",
    "#             byteboard[row][col] = 1\n",
    "\n",
    "#         if board[row][col].lower() in ['b', 'w'] and byte & (128 >> col) == 0:\n",
    "#             print('Byte Board Mismatch')\n",
    "\n",
    "# print(\"Byte Board:\")\n",
    "# for row in byteboard:\n",
    "#     print(row)\n",
    "\n",
    "# match board\n",
    "# for row in range(8):\n",
    "#     for col in range(8):\n",
    "#         if board[row][col] in ['b', 'w'] and byteboard[row][col] == 0:\n",
    "#             print('Byte Board Mismatch')\n",
    "\n",
    "board_bytes = [[1 if byte & (128 >> col) else 0 for col in range(8)] for byte in testBytes]\n",
    "\n",
    "# for row, bytes in enumerate(testBytes):\n",
    "#     for col in range(8):\n",
    "#         if bytes & (128 >> col):\n",
    "#             board_bytes[row][col] = 1\n",
    "\n",
    "print(\"Board Bytes:\")\n",
    "for row2 in board_bytes:\n",
    "    print(row2)"
   ]
  },
  {
   "cell_type": "code",
   "execution_count": 6,
   "metadata": {},
   "outputs": [
    {
     "name": "stdout",
     "output_type": "stream",
     "text": [
      "[] [] []\n",
      "no move\n"
     ]
    }
   ],
   "source": [
    "data = bytes([0b01010101,\n",
    "              0b10101010,\n",
    "              0b00000000,\n",
    "              0b00000000,\n",
    "              0b00000000,\n",
    "              0b00000000,\n",
    "              0b01010101,\n",
    "              0b10101010])\n",
    "byteboard = [[1 if byte & (128 >> col) else 0 for col in range(8)] for byte in data]\n",
    "# print(byteboard)\n",
    "\n",
    "board = [['-', 'b', '-', 'b', '-', 'b', '-', 'b'],\n",
    "         ['b', '-', 'b', '-', 'b', '-', 'b', '-'],\n",
    "         ['-', '-', '-', '-', '-', '-', '-', '-'],\n",
    "         ['-', '-', '-', '-', '-', '-', '-', '-'],\n",
    "         ['-', '-', '-', '-', '-', '-', '-', '-'],\n",
    "         ['-', '-', '-', '-', '-', '-', '-', '-'],\n",
    "         ['-', 'w', '-', 'w', '-', 'w', '-', 'w'],\n",
    "         ['w', '-', 'w', '-', 'w', '-', 'w', '-']]\n",
    "\n",
    "def get_move(prevBoard, newBoard):\n",
    "    # exclusive to black\n",
    "    pieceFrom = None\n",
    "    pieceTo = None\n",
    "    capturedList = []\n",
    "    for row in range(8):\n",
    "        for col in range(8):\n",
    "            if prevBoard[row][col] != '-' and newBoard[row][col] == 0:\n",
    "                if prevBoard[row][col] in ['b', 'B']:\n",
    "                    pieceFrom = (row, col)\n",
    "                elif prevBoard[row][col] in ['w', 'W']:\n",
    "                    capturedList.append((row, col))\n",
    "                    print('Captured:', (row, col))\n",
    "            if prevBoard[row][col] in ['-'] and newBoard[row][col] != 0:\n",
    "                pieceTo = (row, col)\n",
    "\n",
    "    if capturedList:\n",
    "        selectedList = [pieceFrom]\n",
    "        moves = []\n",
    "        \n",
    "        for row, col in capturedList:\n",
    "            rowDelta = row - pieceFrom[0]\n",
    "            rowDelta = rowDelta // abs(rowDelta)\n",
    "            colDelta = col - pieceFrom[1]\n",
    "            colDelta = colDelta // abs(colDelta)\n",
    "            pieceFrom = (row + rowDelta, col + colDelta)\n",
    "            moves.append(pieceFrom)\n",
    "            print('Move:', pieceFrom)\n",
    "\n",
    "        selectedList.extend(moves[:-1])\n",
    "    elif pieceFrom is not None and pieceTo is not None:\n",
    "        selectedList = [pieceFrom]\n",
    "        moves = [pieceTo]\n",
    "    else:\n",
    "        selectedList = []\n",
    "        moves = []\n",
    "\n",
    "    return selectedList, moves, capturedList\n",
    "\n",
    "def checkLegalMove(selectedList, moveList, capturedList):\n",
    "    if selectedList == [] and moveList == []:\n",
    "        return None\n",
    "    elif selectedList != [] and moveList != []:\n",
    "        if len(selectedList) != len(moveList):\n",
    "            return False\n",
    "        elif len(selectedList) == len(moveList):\n",
    "            for i in range(len(selectedList)):\n",
    "                if selectedList[i] == moveList[i]:\n",
    "                    return False\n",
    "                if capturedList != []:\n",
    "                    if moveList[i] in capturedList:\n",
    "                        return False\n",
    "            return True\n",
    "\n",
    "selectedList, moves, capturedList = get_move(board, byteboard)\n",
    "print(selectedList, moves, capturedList)\n",
    "if checkLegalMove(selectedList, moves, capturedList) is True:\n",
    "    print('legal move')\n",
    "elif checkLegalMove(selectedList, moves, capturedList) is False:\n",
    "    print('illegal move')\n",
    "else:\n",
    "    print('no move')"
   ]
  },
  {
   "cell_type": "code",
   "execution_count": null,
   "metadata": {},
   "outputs": [
    {
     "name": "stdout",
     "output_type": "stream",
     "text": [
      "0 0\n",
      "1 0\n",
      "2 0\n",
      "3 0\n",
      "4 1\n",
      "5 1\n",
      "6 1\n",
      "7 1\n",
      "8 0\n",
      "9 0\n",
      "10 0\n",
      "11 0\n",
      "12 1\n",
      "13 1\n",
      "14 1\n",
      "15 1\n"
     ]
    }
   ],
   "source": [
    "for i in range(16):\n",
    "    print(i, (i // 4) % 2)\n",
    "    # print(f'Byte: {bin(0 | (128 >> (i // 4) + i))}')"
   ]
  },
  {
   "cell_type": "code",
   "execution_count": 31,
   "metadata": {},
   "outputs": [
    {
     "name": "stdout",
     "output_type": "stream",
     "text": [
      "0b1010101 0 4\n",
      "0b10101010 1 5\n",
      "0b1010101 2 6\n",
      "0b10101010 3 7\n"
     ]
    }
   ],
   "source": [
    "shiftByte = 0\n",
    "\n",
    "for idx in range(16):\n",
    "    if idx // 4 % 2 == 0:\n",
    "        shiftByte = shiftByte | 128 >> ((idx % 4) * 2) + 1\n",
    "    else:\n",
    "        shiftByte = shiftByte | 128 >> ((idx % 4) * 2)\n",
    "    # shiftByte = shiftByte | 128 >> (((idx % 4) * 2) + 1 + (idx // 4) % 2)\n",
    "    # print(bin(shiftByte), idx % 4, (idx // 4) % 2)\n",
    "    if idx % 4 == 3:\n",
    "        print(bin(shiftByte), idx // 4, (idx // 4) + 4)\n",
    "        shiftByte = 0"
   ]
  },
  {
   "cell_type": "code",
   "execution_count": 34,
   "metadata": {},
   "outputs": [
    {
     "name": "stdout",
     "output_type": "stream",
     "text": [
      "True @ 4\n",
      "True @ 7\n"
     ]
    }
   ],
   "source": [
    "status = 0b10010000\n",
    "for i in range(8):\n",
    "    if status & (1 << i):\n",
    "        print('True @', i)\n",
    "    # print(bin(status & (1 << i)))"
   ]
  },
  {
   "cell_type": "code",
   "execution_count": null,
   "metadata": {},
   "outputs": [
    {
     "name": "stdout",
     "output_type": "stream",
     "text": [
      "The hash value is     : 17265688812060008675\n",
      "Table @ changed:  [6256736546967701865, 4631386002058878803, 3780022396950972931, 6261544540321166725, 18098145765225649630, 677370366315168945, 8565176287748574247, 530802252464300176, 13817080766507030036, 6205961618648342582, 15483796027450601092, 501774356496109674]\n",
      "ID:  1656350495744\n",
      "The new hash value is : 1447997436316733349\n",
      "Table @ changed:  [14326121251165661286, 15458220410466752214, 13099850356802875639, 5377807364349221507, 6960442657227459152, 17501794378652822519, 12815635811474005556, 16390572307259459569, 8435714966659726400, 8671594718355960971, 10881911154463531072, 13602690038976900444]\n",
      "ID:  1656350495744\n",
      "The old hash value is : 17265688812060008675\n",
      "Table @ changed:  [6256736546967701865, 4631386002058878803, 3780022396950972931, 6261544540321166725, 18098145765225649630, 677370366315168945, 8565176287748574247, 530802252464300176, 13817080766507030036, 6205961618648342582, 15483796027450601092, 501774356496109674]\n",
      "ID:  1656350495744\n"
     ]
    }
   ],
   "source": [
    "\n",
    "\n",
    "# A program to illustrate Zobrist Hashing Algorithm\n",
    "# python code implementation\n",
    "import random\n",
    " \n",
    "# mt19937 mt(01234567);\n",
    "  \n",
    "# Generates a Random number from 0 to 2^64-1\n",
    "def randomInt():\n",
    "    min = 0\n",
    "    max = pow(2, 64)\n",
    "    return random.randint(min, max)\n",
    "  \n",
    "# This function associates each piece with\n",
    "# a number\n",
    "def indexOf(piece):\n",
    "    if (piece=='P'):\n",
    "        return 0\n",
    "    elif (piece=='N'):\n",
    "        return 1\n",
    "    elif (piece=='B'):\n",
    "        return 2\n",
    "    elif (piece=='R'):\n",
    "        return 3\n",
    "    elif (piece=='Q'):\n",
    "        return 4\n",
    "    elif (piece=='K'):\n",
    "        return 5\n",
    "    elif (piece=='p'):\n",
    "        return 6\n",
    "    elif (piece=='n'):\n",
    "        return 7\n",
    "    elif (piece=='b'):\n",
    "        return 8\n",
    "    elif (piece=='r'):\n",
    "        return 9\n",
    "    elif (piece=='q'):\n",
    "        return 10\n",
    "    elif (piece=='k'):\n",
    "        return 11\n",
    "    else:\n",
    "        return -1\n",
    "  \n",
    "# Initializes the table\n",
    "def initTable():\n",
    "    # 8x8x12 array\n",
    "    ZobristTable = [[[randomInt() for k in range(12)] for j in range(8)] for i in range(8)]\n",
    "    return ZobristTable\n",
    "  \n",
    "# Computes the hash value of a given board\n",
    "def computeHash(board, ZobristTable):\n",
    "    h = 0\n",
    "    for i in range(8):\n",
    "        for j in range(8):\n",
    "            if (board[i][j] != '-'):\n",
    "                piece = indexOf(board[i][j])\n",
    "                h ^= ZobristTable[i][j][piece]\n",
    "    return h\n",
    "  \n",
    "# Main Function\n",
    "# Uppercase letters are white pieces\n",
    "# Lowercase letters are black pieces\n",
    "board = [\n",
    "    \"---K----\",\n",
    "    \"-R----Q-\",\n",
    "    \"--------\",\n",
    "    \"-P----p-\",\n",
    "    \"-----p--\",\n",
    "    \"--------\",\n",
    "    \"p---b--q\",\n",
    "    \"----n--k\"\n",
    "]\n",
    " \n",
    "ZobristTable = initTable()\n",
    " \n",
    "hashValue = computeHash(board, ZobristTable)\n",
    "print(\"The hash value is     : \" + str(hashValue))\n",
    "print(\"Table @ changed: \", ZobristTable[0][2])\n",
    "print(\"ID: \", id(ZobristTable))\n",
    " \n",
    "#Move the white king to the left\n",
    "piece = board[0][3]\n",
    " \n",
    "board[0] = list(board[0])\n",
    "board[0][3] = '-'\n",
    "board[0] = ''.join(board[0])\n",
    " \n",
    "hashValue ^= ZobristTable[0][3][indexOf(piece)]\n",
    " \n",
    "board[0] = list(board[0])\n",
    "board[0][2] = piece\n",
    "board[0] = ''.join(board[0])\n",
    "hashValue ^= ZobristTable[0][2][indexOf(piece)]\n",
    " \n",
    " \n",
    "print(\"The new hash value is : \" + str(hashValue))\n",
    "print(\"Table @ changed: \", ZobristTable[0][3])\n",
    "print(\"ID: \", id(ZobristTable))\n",
    " \n",
    "# Undo the white king move\n",
    "piece = board[0][2]\n",
    " \n",
    "board[0] = list(board[0])\n",
    "board[0][2] = '-'\n",
    "board[0] = ''.join(board[0])\n",
    " \n",
    "hashValue ^= ZobristTable[0][2][indexOf(piece)]\n",
    " \n",
    "board[0] = list(board[0])\n",
    "board[0][3] = piece\n",
    "board[0] = ''.join(board[0])\n",
    "hashValue ^= ZobristTable[0][3][indexOf(piece)]\n",
    " \n",
    "print(\"The old hash value is : \" + str(hashValue))\n",
    "print(\"Table @ changed: \", ZobristTable[0][2])\n",
    "print(\"ID: \", id(ZobristTable))"
   ]
  },
  {
   "cell_type": "markdown",
   "metadata": {},
   "source": [
    "---"
   ]
  },
  {
   "cell_type": "code",
   "execution_count": 1,
   "metadata": {},
   "outputs": [
    {
     "name": "stdout",
     "output_type": "stream",
     "text": [
      "pygame 2.5.2 (SDL 2.28.3, Python 3.8.16)\n",
      "Hello from the pygame community. https://www.pygame.org/contribute.html\n"
     ]
    }
   ],
   "source": [
    "import pygame\n",
    "from pygame.locals import *\n",
    "from checkers import *\n",
    "from player import *"
   ]
  },
  {
   "cell_type": "code",
   "execution_count": 43,
   "metadata": {},
   "outputs": [],
   "source": [
    "def is_game_over2(board, movesDone):\n",
    "    currentTurn = 'b' if movesDone['turn'] == 'w' else 'w'\n",
    "\n",
    "    tempb = []\n",
    "    tempbmove = []\n",
    "    tempbcap = []\n",
    "\n",
    "    tempw = []\n",
    "    tempwmove = []\n",
    "    tempwcap = []\n",
    "\n",
    "    blackCount = countBlack(board)\n",
    "    whiteCount = countWhite(board)\n",
    "    whiteKing, blackKing = countKings(board)\n",
    "\n",
    "    blackMoveCount = len(movesDone['b'])\n",
    "    whiteMoveCount = len(movesDone['w'])\n",
    "    totalMoveCount = len(movesDone['b']) + len(movesDone['w'])\n",
    "\n",
    "    xb = np.char.lower(np.array(board)) == 'b'\n",
    "    pieceloclist = np.asarray(np.where(xb)).T.tolist()\n",
    "    for pieceloc in pieceloclist:\n",
    "        tempbmove.append(check_basic_valid_moves(pieceloc[0], pieceloc[1], board))\n",
    "        tempbcap.append(check_basic_capture(pieceloc[0], pieceloc[1], board))\n",
    "    for normMove, capMove in zip_longest(tempbmove, tempbcap):\n",
    "        tempb.append(normMove or capMove)\n",
    "\n",
    "    xw = np.char.lower(np.array(board)) == 'w'\n",
    "    pieceloclist = np.asarray(np.where(xw)).T.tolist()\n",
    "    for pieceloc in pieceloclist:\n",
    "        tempwmove.append(check_basic_valid_moves(pieceloc[0], pieceloc[1], board))\n",
    "        tempwcap.append(check_basic_capture(pieceloc[0], pieceloc[1], board))\n",
    "    for normMove, capMove in zip_longest(tempwmove, tempwcap):\n",
    "        tempw.append(normMove or capMove)\n",
    "\n",
    "    # if all(not i for i in tempb) or countBlack(board) == 0:\n",
    "    #     return 'w'\n",
    "    # elif all(not i for i in tempw) or countWhite(board) == 0:\n",
    "    #     return 'b'\n",
    "\n",
    "    print('Black:', tempb)\n",
    "    print('White:', tempw)\n",
    "    print('Black Moves:', tempbmove)\n",
    "    print('White Moves:', tempwmove)\n",
    "    print('Black Captures:', tempbcap)\n",
    "    print('White Captures:', tempwcap)\n",
    "    if currentTurn == 'w' and all(not i for i in tempb):\n",
    "        if all(not i for i in tempwcap):\n",
    "            return 'w'\n",
    "    elif currentTurn == 'b' and all(not i for i in tempw):\n",
    "        if all(not i for i in tempbcap):\n",
    "            return 'b'\n",
    "\n",
    "\n",
    "    if (blackCount == 1 and blackKing == 1) and\\\n",
    "       (whiteCount == 1 and whiteKing == 1) and\\\n",
    "       all(not i for i in tempbcap) and\\\n",
    "       all(not i for i in tempwcap):\n",
    "        # with only 1 king each w/o any forced captures, the game should be considered a draw\n",
    "        return 'draw'\n",
    "    \n",
    "    if blackMoveCount == 40 or whiteMoveCount == 40:\n",
    "        # In the internaitonal rules, if a player makes 40 moves without a capture or a king, the game is a draw\n",
    "        if blackCount + whiteCount == 24:\n",
    "            return 'draw'\n",
    "        if whiteKing + blackKing == 0:\n",
    "            return 'draw'\n",
    "\n",
    "    if totalMoveCount >= 12:\n",
    "        # If the last 3 moves are the same, the game is a draw\n",
    "        if movesDone['b'][-1] == movesDone['b'][-3] == movesDone['b'][-5] and\\\n",
    "           movesDone['w'][-1] == movesDone['w'][-3] == movesDone['w'][-5] and\\\n",
    "           movesDone['b'][-2] == movesDone['b'][-4] == movesDone['b'][-6] and\\\n",
    "           movesDone['w'][-2] == movesDone['w'][-4] == movesDone['w'][-6]:\n",
    "            return 'draw'\n",
    "\n",
    "    return False"
   ]
  },
  {
   "cell_type": "code",
   "execution_count": 2,
   "metadata": {},
   "outputs": [
    {
     "name": "stdout",
     "output_type": "stream",
     "text": [
      "(6, 5) [5, 6]\n"
     ]
    }
   ],
   "source": [
    "from player import *\n",
    "board = [['-', '-', '-', '-', '-', '-', '-', '-'],\n",
    "        ['-', '-', '-', '-', '-', '-', '-', '-'],\n",
    "        ['-', '-', '-', '-', '-', '-', '-', '-'],\n",
    "        ['-', '-', '-', '-', '-', '-', 'b', '-'],\n",
    "        ['-', '-', '-', '-', '-', 'B', '-', '-'],\n",
    "        ['-', '-', 'b', '-', '-', '-', '-', '-'],\n",
    "        ['-', 'b', '-', '-', '-', '-', '-', '-'],\n",
    "        ['w', '-', '-', '-', 'w', '-', '-', '-']]\n",
    "\n",
    "player2 = AlphaBeta('w', board, {'b': [], 'w': [], 'turn': 'b'})\n",
    "piece, move = player2.play(board)\n",
    "print(piece, move)"
   ]
  },
  {
   "cell_type": "code",
   "execution_count": 37,
   "metadata": {},
   "outputs": [
    {
     "name": "stdout",
     "output_type": "stream",
     "text": [
      "True True False\n",
      "True False True\n",
      "True None True\n"
     ]
    }
   ],
   "source": [
    "from itertools import zip_longest\n",
    "\n",
    "testarr1 = [True, False]\n",
    "testarr2 = [False, True, True]\n",
    "\n",
    "for i, j in zip_longest(testarr1, testarr2):\n",
    "    print(i or j, i, j)"
   ]
  },
  {
   "cell_type": "code",
   "execution_count": 14,
   "metadata": {},
   "outputs": [],
   "source": [
    "def can_capture(row, col, board):\n",
    "    moves = []\n",
    "    capturePos = []\n",
    "    piece = board[row][col]\n",
    "    print('Piece:', piece, 'Row:', row, 'Col:', col)\n",
    "    if piece == 'B' or piece == 'W':\n",
    "        capturable = 'w' if piece == 'B' else 'b'\n",
    "        directions = [[-1, -1], [-1, 1], [1, -1], [1, 1]]\n",
    "        for direction in directions:\n",
    "            for i in range(1, 8):\n",
    "                print('Direction:', direction, 'i:', i)\n",
    "                checkrow = row + direction[0] * i\n",
    "                checkcol = col + direction[1] * i\n",
    "                if 0 <= checkrow <= 7 and 0 <= checkcol <= 7:\n",
    "                    if board[checkrow][checkcol] == '-':\n",
    "                        continue\n",
    "                    elif board[checkrow][checkcol].lower() == capturable:\n",
    "                        if 0 <= checkrow+direction[0] <= 7 and 0 <= checkcol+direction[1] <= 7 and board[checkrow+direction[0]][checkcol+direction[1]] == '-':\n",
    "                            capturePos.append([checkrow, checkcol]) if [checkrow, checkcol] not in capturePos else None\n",
    "                            moves.append([checkrow+direction[0], checkcol+direction[1]])\n",
    "                            break\n",
    "                        else:\n",
    "                            break\n",
    "                    else:\n",
    "                        break\n",
    "                else:\n",
    "                    break\n",
    "    else:\n",
    "        if piece == 'b':\n",
    "            if 0 <= row+2 <= 7 and 0 <= col-2 <= 7 and board[row+1][col-1].lower() == 'w' and board[row+2][col-2] == '-':\n",
    "                capturePos.append([row+1, col-1]) if [row+1, col-1] not in capturePos else None\n",
    "                moves.append([row+2, col-2])\n",
    "            if 0 <= row+2 <= 7 and 0 <= col+2 <= 7 and board[row+1][col+1].lower() == 'w' and board[row+2][col+2] == '-':\n",
    "                capturePos.append([row+1, col+1]) if [row+1, col+1] not in capturePos else None\n",
    "                moves.append([row+2, col+2])\n",
    "\n",
    "        elif piece == 'w':\n",
    "            if 0 <= row-2 <= 7 and 0 <= col-2 <= 7 and board[row-1][col-1].lower() == 'b' and board[row-2][col-2] == '-':\n",
    "                capturePos.append([row-1, col-1]) if [row-1, col-1] not in capturePos else None\n",
    "                moves.append([row-2, col-2])\n",
    "            if 0 <= row-2 <= 7 and 0 <= col+2 <= 7 and board[row-1][col+1].lower() == 'b' and board[row-2][col+2] == '-':\n",
    "                capturePos.append([row-1, col+1]) if [row-1, col+1] not in capturePos else None\n",
    "                moves.append([row-2, col+2])\n",
    "\n",
    "    return moves, capturePos"
   ]
  },
  {
   "cell_type": "code",
   "execution_count": 1,
   "metadata": {},
   "outputs": [
    {
     "name": "stdout",
     "output_type": "stream",
     "text": [
      "pygame 2.5.2 (SDL 2.28.3, Python 3.8.16)\n",
      "Hello from the pygame community. https://www.pygame.org/contribute.html\n"
     ]
    }
   ],
   "source": [
    "from player import *\n",
    "\n",
    "# testBoard = [['-', 'b', '-', 'b', '-', '-', '-', '-'],\n",
    "#             ['-', '-', 'w', '-', '-', '-', '-', '-'],\n",
    "#             ['-', '-', '-', '-', '-', '-', '-', '-'],\n",
    "#             ['-', '-', '-', '-', '-', '-', '-', '-'],\n",
    "#             ['-', '-', '-', '-', '-', '-', '-', '-'],\n",
    "#             ['-', '-', '-', '-', '-', '-', '-', '-'],\n",
    "#             ['-', '-', '-', '-', '-', '-', '-', '-'],\n",
    "#             ['-', '-', '-', '-', '-', '-', '-', '-']]\n",
    "\n",
    "testBoard = [['-', '-', '-', '-', '-', '-', '-', '-'],\n",
    "             ['-', '-', '-', '-', 'b', '-', 'W', '-'],\n",
    "             ['-', 'b', '-', '-', '-', '-', '-', '-'],\n",
    "             ['-', '-', 'w', '-', '-', '-', 'b', '-'],\n",
    "             ['-', '-', '-', 'b', '-', '-', '-', '-'],\n",
    "             ['-', '-', '-', '-', 'b', '-', '-', '-'],\n",
    "             ['-', '-', '-', '-', '-', '-', '-', '-'],\n",
    "             ['w', '-', 'w', '-', 'w', '-', 'w', '-']]\n",
    "\n",
    "# player1 = User('b', testBoard, {'b': [], 'w': []})\n",
    "player2 = AlphaBeta('w', testBoard, {'b': [], 'w': []})\n",
    "\n",
    "# new_board, _, _ = player2.perform_all_move((4, 5), (1, 2), 'w', testBoard)\n",
    "# for row in new_board:\n",
    "#     print(row)\n",
    "player2.turn = 'w'\n",
    "\n",
    "# piece = (3, 4)\n",
    "# move = [1, 6]\n",
    "\n",
    "# player2.mandatory_moves = [(3, 4)]\n",
    "# player2.get_all_moves(player2.turn, testBoard)\n",
    "# testBoard, player2.turn = player2.update_board(testBoard, piece, move)\n",
    "\n",
    "# print('Turn:', player2.turn)\n",
    "# for row in testBoard:\n",
    "#     print(row)\n",
    "\n",
    "# player2.get_all_moves(player2.turn, testBoard)\n",
    "# new_board, _ = player2.update_board(testBoard, (3, 4), (1, 6))\n",
    "# is_game_over2(testBoard, turn, {'b': [], 'w': []})\n",
    "# player2.evaluate_board(testBoard, verbose=True)"
   ]
  },
  {
   "cell_type": "code",
   "execution_count": 23,
   "metadata": {},
   "outputs": [
    {
     "name": "stdout",
     "output_type": "stream",
     "text": [
      "Game Over:  False\n",
      "Score: 163\n"
     ]
    }
   ],
   "source": [
    "# testBoard2 = [['-', '-', '-', '-', '-', '-', '-', '-'],\n",
    "#               ['w', '-', '-', '-', '-', '-', '-', '-'],\n",
    "#               ['-', '-', '-', '-', '-', '-', '-', '-'],\n",
    "#               ['-', '-', 'w', '-', '-', '-', '-', '-'],\n",
    "#               ['-', '-', '-', '-', '-', '-', '-', 'W'],\n",
    "#               ['-', '-', 'W', '-', '-', '-', '-', '-'],\n",
    "#               ['-', '-', '-', '-', '-', '-', '-', 'b'],\n",
    "#               ['w', '-', '-', '-', '-', '-', 'w', '-']]\n",
    "\n",
    "testBoard2 = [['-', '-', '-', '-', '-', '-', '-', '-'],\n",
    "            ['-', '-', '-', '-', '-', '-', '-', '-'],\n",
    "            ['-', '-', '-', '-', '-', '-', '-', '-'],\n",
    "            ['-', '-', 'w', '-', 'W', '-', 'b', '-'],\n",
    "            ['-', '-', '-', '-', '-', '-', '-', '-'],\n",
    "            ['-', '-', '-', '-', '-', '-', 'b', '-'],\n",
    "            ['-', '-', '-', '-', '-', '-', '-', 'b'],\n",
    "            ['-', '-', '-', '-', 'w', '-', 'w', '-']]\n",
    "\n",
    "# player2.mandatory_moves = [(2, 1)]\n",
    "# prevMove = (2, 1)\n",
    "# turn = 'b'\n",
    "\n",
    "print('Game Over: ', is_game_over2(testBoard2, 'b', {'b': [], 'w': []}))\n",
    "print(f'Score: {player2.evaluate_board(testBoard2)}')\n",
    "\n",
    "# player2.get_all_moves('w', testBoard2)\n",
    "# player2.get_valid_moves(1, 2, testBoard2)\n",
    "\n",
    "# player2.get_mandatory_capture(turn, testBoard2, prevMove)"
   ]
  },
  {
   "cell_type": "code",
   "execution_count": 21,
   "metadata": {},
   "outputs": [],
   "source": [
    "def get_all_moves(player, board, pieceLoc=None):\n",
    "    moves = {}\n",
    "    print(f'Mandatory Moves: {player2.mandatory_moves}')\n",
    "    if player2.mandatory_moves:\n",
    "        for piece in player2.mandatory_moves:\n",
    "            moves[tuple(piece)] = player2.get_valid_moves(piece[0], piece[1], board)[0]\n",
    "    elif pieceLoc is None:\n",
    "        mandatory_moves = player2.get_mandatory_capture(player, board)\n",
    "        if mandatory_moves:\n",
    "            for piece in mandatory_moves:\n",
    "                moves[tuple(piece)] = player2.get_valid_moves(piece[0], piece[1], board)[0]\n",
    "        else:\n",
    "            for row in range(rows):\n",
    "                for col in range(cols):\n",
    "                    if board[row][col].lower() == player and player2.get_valid_moves(row, col, board)[0] != []:\n",
    "                        moves[(row, col)] = player2.get_valid_moves(row, col, board)[0]\n",
    "    else:\n",
    "        # Check only passed piece location\n",
    "        moves[tuple(pieceLoc)] = player2.get_valid_moves(pieceLoc[0], pieceLoc[1], board)[0]\n",
    "\n",
    "    return moves"
   ]
  },
  {
   "cell_type": "code",
   "execution_count": 30,
   "metadata": {},
   "outputs": [
    {
     "name": "stdout",
     "output_type": "stream",
     "text": [
      "Mandatory Moves: []\n"
     ]
    }
   ],
   "source": [
    "print('Mandatory Moves:', player2.mandatory_moves)"
   ]
  },
  {
   "cell_type": "code",
   "execution_count": 4,
   "metadata": {},
   "outputs": [
    {
     "name": "stdout",
     "output_type": "stream",
     "text": [
      "Mandatory Moves: [[1, 6], [3, 2]]\n",
      "iterative deepening 1\n",
      "Piece: None Move: None\n"
     ]
    }
   ],
   "source": [
    "board = testBoard\n",
    "piece = None\n",
    "move = None\n",
    "\n",
    "if not player2.mandatory_moves:\n",
    "    mandatory_moves = player2.get_mandatory_capture(player2.botTurn, board)\n",
    "    print('Mandatory Moves:', mandatory_moves)\n",
    "    if len(mandatory_moves) == 1:\n",
    "        print('Mandatory Moves:', mandatory_moves[0])\n",
    "        piece, move = mandatory_moves[0], player2.get_valid_moves(mandatory_moves[0][0], mandatory_moves[0][1], board)[0][0]\n",
    "    else:\n",
    "        # _, piece, move = player2.iterativeDeepening(board)\n",
    "else:\n",
    "    piece = player2.mandatory_moves[0]\n",
    "    if len(player2.get_valid_moves(piece[0], piece[1], board)[0]) == 1:\n",
    "        move = player2.get_valid_moves(piece[0], piece[1], board)[0][0]\n",
    "    else:\n",
    "        # _, piece, move = player2.iterativeDeepening(board)\n",
    "\n",
    "print('Piece:', piece, 'Move:', move)"
   ]
  },
  {
   "cell_type": "code",
   "execution_count": 26,
   "metadata": {},
   "outputs": [
    {
     "name": "stdout",
     "output_type": "stream",
     "text": [
      "['-', '-', '-', '-', '-', '-', '-', '-']\n",
      "['-', '-', '-', '-', 'b', '-', 'W', '-']\n",
      "['-', 'b', '-', '-', '-', '-', '-', '-']\n",
      "['-', '-', 'w', '-', '-', '-', 'b', '-']\n",
      "['-', '-', '-', 'b', '-', '-', '-', '-']\n",
      "['-', '-', '-', '-', 'b', '-', '-', '-']\n",
      "['-', '-', '-', '-', '-', '-', '-', '-']\n",
      "['w', '-', 'w', '-', 'w', '-', 'w', '-']\n",
      "[[1, 6]]\n"
     ]
    },
    {
     "data": {
      "text/plain": [
       "[5, 2]"
      ]
     },
     "execution_count": 26,
     "metadata": {},
     "output_type": "execute_result"
    }
   ],
   "source": [
    "oppTurn = 'b'\n",
    "\n",
    "piece = (3, 4)\n",
    "finalMove = (1, 6)\n",
    "\n",
    "board = testBoard\n",
    "\n",
    "board = player2.simulate_game(piece, finalMove, 'w', board)\n",
    "\n",
    "for row in board:\n",
    "    print(row)\n",
    "print(player2.mandatory_moves)\n",
    "\n",
    "player2.get_valid_moves(1, 6, board)[0][0]\n",
    "\n",
    "# if abs(finalMove[0] - piece[0]) >= 2 and abs(finalMove[1] - piece[1]) >= 2:\n",
    "#     captureLoc = ((finalMove[0] + piece[0]) // 2, (finalMove[1] + piece[1]) // 2)\n",
    "#     if board[captureLoc[0]][captureLoc[1]].lower() == oppTurn:\n",
    "#         print('Capture:', captureLoc)\n",
    "#         checkNextCapture = True\n",
    "\n",
    "# can_capture(finalMove[0], finalMove[1], board)"
   ]
  },
  {
   "cell_type": "code",
   "execution_count": null,
   "metadata": {},
   "outputs": [
    {
     "name": "stdout",
     "output_type": "stream",
     "text": [
      "True\n"
     ]
    }
   ],
   "source": [
    "import numpy as np\n",
    "\n",
    "inf = np.inf\n",
    "ninf = -np.inf\n",
    "\n",
    "testEval = 3\n",
    "\n",
    "if testEval > ninf:\n",
    "    print('True')"
   ]
  },
  {
   "cell_type": "code",
   "execution_count": null,
   "metadata": {},
   "outputs": [
    {
     "name": "stdout",
     "output_type": "stream",
     "text": [
      "['-', 'b', '-', '-', '-', 'b', '-', '-']\n",
      "['-', '-', 'b', '-', '-', '-', 'b', '-']\n",
      "['-', 'b', '-', 'W', '-', '-', '-', 'b']\n",
      "['-', '-', 'b', '-', '-', '-', '-', '-']\n",
      "['-', '-', '-', '-', '-', '-', '-', 'b']\n",
      "['-', '-', 'w', '-', 'w', '-', '-', '-']\n",
      "['-', 'w', '-', 'w', '-', 'w', '-', 'w']\n",
      "['-', '-', '-', '-', 'w', '-', '-', '-']\n"
     ]
    }
   ],
   "source": [
    "new_board, _, _ = perform_all_move((4, 5), (2, 3), 'w', testBoard)\n",
    "for row in new_board:\n",
    "    print(row)"
   ]
  },
  {
   "cell_type": "code",
   "execution_count": null,
   "metadata": {},
   "outputs": [],
   "source": [
    "def canBridge(pieceRow, pieceCol, direction, pieceColor, board):\n",
    "    bridgeRow, bridgeCol = pieceRow, pieceCol + (2 * direction[1])\n",
    "    landingRow, landingCol = pieceRow + direction[0], pieceCol + (direction[1])\n",
    "    print(bridgeRow, bridgeCol, landingRow, landingCol)\n",
    "    if bridgeRow >= 0 and bridgeRow < 8 and bridgeCol >= 0 and bridgeCol < 8 and landingRow >= 0 and landingRow < 8 and landingCol >= 0 and landingCol < 8:\n",
    "        if board[bridgeRow][bridgeCol] == pieceColor and board[landingRow][landingCol] == '-':\n",
    "            return True, bridgeRow, bridgeCol\n",
    "    return False, -1, -1"
   ]
  },
  {
   "cell_type": "code",
   "execution_count": null,
   "metadata": {},
   "outputs": [
    {
     "name": "stdout",
     "output_type": "stream",
     "text": [
      "5 0 6 1\n",
      "(False, -1, -1)\n",
      "5 4 6 3\n",
      "(True, 5, 4)\n"
     ]
    }
   ],
   "source": [
    "for direction in ([1, -1], [1, 1]):\n",
    "    print(canBridge(5, 2, direction, 'b', testBoard))"
   ]
  },
  {
   "cell_type": "code",
   "execution_count": null,
   "metadata": {},
   "outputs": [],
   "source": [
    "def canMove(pieceRow, pieceCol, direction, oppDirections, pieceColor, board):\n",
    "    checkRow, checkCol = pieceRow + direction[0], pieceCol + direction[1]\n",
    "    OppRowR, OppColR = checkRow + direction[0], checkCol + oppDirections[0][1]\n",
    "    OppRowL, OppColL = checkRow + direction[0], checkCol + oppDirections[1][1]\n",
    "    print(checkRow, checkCol, OppRowR, OppColR, OppRowL, OppColL)\n",
    "    if 0 <= checkRow <= 7 and 0 <= checkCol <= 7 and board[checkRow][checkCol] == '-':\n",
    "        print('Checking:', checkRow, checkCol)\n",
    "        if 0 <= OppRowR <= 7 and 0 <= OppColR <= 7 and board[OppRowR][OppColR] != 'w':\n",
    "            print('Right:', OppRowR, OppColR)\n",
    "            if 0 <= OppRowL <= 7 and 0 <= OppColL <= 7 and board[OppRowL][OppColL] != 'w':\n",
    "                print('Left:', OppRowL, OppColL)\n",
    "                return True, checkRow, checkCol\n",
    "    return False, -1, -1"
   ]
  },
  {
   "cell_type": "code",
   "execution_count": null,
   "metadata": {},
   "outputs": [
    {
     "name": "stdout",
     "output_type": "stream",
     "text": [
      "6 3 7 4 7 2\n",
      "Checking: 6 3\n",
      "Right: 7 4\n",
      "(False, -1, -1)\n",
      "6 1 7 2 7 0\n",
      "Checking: 6 1\n",
      "(False, -1, -1)\n"
     ]
    }
   ],
   "source": [
    "directions = [1, 1], [1, -1]\n",
    "oppDirections = [-1, 1], [-1, -1]\n",
    "\n",
    "for direction in directions:\n",
    "    print(canMove(5, 2, direction, oppDirections, 'b', testBoard))"
   ]
  },
  {
   "cell_type": "code",
   "execution_count": null,
   "metadata": {},
   "outputs": [],
   "source": [
    "def runawayCheckers(board, piece):\n",
    "    # Check if the piece has a path of becoming a king\n",
    "    blackDirections = [[1, -1], [1, 1]]\n",
    "    whiteDirections = [[-1, -1], [-1, 1]]\n",
    "\n",
    "    pieceRow = piece[0]\n",
    "    pieceCol = piece[1]\n",
    "    pieceColor = board[pieceRow][pieceCol].lower()\n",
    "\n",
    "    movePath = []\n",
    "\n",
    "    if pieceColor == 'b':\n",
    "        directions = blackDirections\n",
    "        oppColor = 'w'\n",
    "        endRow = 7  # Row where black pieces become kings\n",
    "    else:\n",
    "        directions = whiteDirections\n",
    "        oppColor = 'b'\n",
    "        endRow = 0  # Row where white pieces become kings\n",
    "\n",
    "    def canMove(pieceRow, pieceCol, direction):\n",
    "        checkRow, checkCol = pieceRow + direction[0], pieceCol + direction[1]\n",
    "        oppRowL, oppColL = checkRow + direction[0], checkCol + directions[0][1]\n",
    "        oppRowR, oppColR = checkRow + direction[0], checkCol + directions[1][1]\n",
    "        if 0 <= checkRow <= 7 and 0 <= checkCol <= 7 and board[checkRow][checkCol] == '-':\n",
    "            if 0 <= oppRowR <= 7 and 0 <= oppColR <= 7 and board[oppRowR][oppColR].lower() != oppColor:\n",
    "                if 0 <= oppRowL <= 7 and 0 <= oppColL <= 7 and board[oppRowL][oppColL].lower() != oppColor:\n",
    "                    return True, checkRow, checkCol\n",
    "        return False, -1, -1\n",
    "\n",
    "    def canBridge(pieceRow, pieceCol, direction):\n",
    "        bridgeRow, bridgeCol = pieceRow, pieceCol + (2 * direction[1])\n",
    "        landingRow, landingCol = pieceRow + direction[0], pieceCol + direction[1]\n",
    "        oppRow, oppCol = landingRow + direction[0], pieceCol\n",
    "        print(bridgeRow, bridgeCol, landingRow, landingCol, oppRow, oppCol)\n",
    "        if landingRow >= 0 and landingRow < 8 and landingCol >= 0 and landingCol < 8 and board[landingRow][landingCol] == '-':\n",
    "            if 0 <= bridgeRow <= 7 and 0 <= bridgeCol <= 7 and board[bridgeRow][bridgeCol].lower() == pieceColor:\n",
    "                if 0 <= oppRow <= 7 and 0 <= oppCol <= 7 and board[oppRow][oppCol].lower() == oppColor:\n",
    "                    return True, landingRow, landingCol\n",
    "        return False, -1, -1\n",
    "\n",
    "    for direction in directions:\n",
    "        canMoveFlag, _, _ = canMove(pieceRow, pieceCol, direction)\n",
    "        if canMoveFlag:\n",
    "            print('canMove', pieceRow, pieceCol, direction)\n",
    "            return True\n",
    "        else:\n",
    "            canBridgeFlag, _, _ = canBridge(pieceRow, pieceCol, direction)\n",
    "            if canBridgeFlag:\n",
    "                print('canBridge', pieceRow, pieceCol, direction)\n",
    "                return True\n",
    "\n",
    "    return False"
   ]
  },
  {
   "cell_type": "code",
   "execution_count": null,
   "metadata": {},
   "outputs": [
    {
     "ename": "",
     "evalue": "",
     "output_type": "error",
     "traceback": [
      "\u001b[1;31mThe Kernel crashed while executing code in the current cell or a previous cell. \n",
      "\u001b[1;31mPlease review the code in the cell(s) to identify a possible cause of the failure. \n",
      "\u001b[1;31mClick <a href='https://aka.ms/vscodeJupyterKernelCrash'>here</a> for more info. \n",
      "\u001b[1;31mView Jupyter <a href='command:jupyter.viewOutput'>log</a> for further details."
     ]
    }
   ],
   "source": [
    "runawayCheckers(testBoard, (5, 2))"
   ]
  },
  {
   "cell_type": "code",
   "execution_count": null,
   "metadata": {},
   "outputs": [
    {
     "name": "stdout",
     "output_type": "stream",
     "text": [
      "The optimal value is : 5\n"
     ]
    }
   ],
   "source": [
    "# Python3 program to demonstrate \n",
    "# working of Alpha-Beta Pruning \n",
    "\n",
    "# Initial values of Alpha and Beta \n",
    "MAX, MIN = 1000, -1000\n",
    "\n",
    "# Returns optimal value for current player \n",
    "#(Initially called for root and maximizer) \n",
    "def minimax(depth, nodeIndex, maximizingPlayer, \n",
    "\t\t\tvalues, alpha, beta): \n",
    "\n",
    "\t# Terminating condition. i.e \n",
    "\t# leaf node is reached \n",
    "\tif depth == 3: \n",
    "\t\treturn values[nodeIndex] \n",
    "\n",
    "\tif maximizingPlayer: \n",
    "\t\n",
    "\t\tbest = MIN\n",
    "\n",
    "\t\t# Recur for left and right children \n",
    "\t\tfor i in range(0, 2): \n",
    "\t\t\t\n",
    "\t\t\tval = minimax(depth + 1, nodeIndex * 2 + i, \n",
    "\t\t\t\t\t\tFalse, values, alpha, beta) \n",
    "\t\t\tbest = max(best, val) \n",
    "\t\t\talpha = max(alpha, best) \n",
    "\n",
    "\t\t\t# Alpha Beta Pruning \n",
    "\t\t\tif beta <= alpha: \n",
    "\t\t\t\tbreak\n",
    "\t\t\n",
    "\t\treturn best \n",
    "\t\n",
    "\telse:\n",
    "\t\tbest = MAX\n",
    "\n",
    "\t\t# Recur for left and \n",
    "\t\t# right children \n",
    "\t\tfor i in range(0, 2): \n",
    "\t\t\n",
    "\t\t\tval = minimax(depth + 1, nodeIndex * 2 + i, \n",
    "\t\t\t\t\t\t\tTrue, values, alpha, beta) \n",
    "\t\t\tbest = min(best, val) \n",
    "\t\t\tbeta = min(beta, best) \n",
    "\n",
    "\t\t\t# Alpha Beta Pruning \n",
    "\t\t\tif beta <= alpha: \n",
    "\t\t\t\tbreak\n",
    "\t\t\n",
    "\t\treturn best \n",
    "\t\n",
    "# Driver Code \n",
    "if __name__ == \"__main__\": \n",
    "\n",
    "\tvalues = [3, 5, 6, 9, 1, 2, 0, -1] \n",
    "\tprint(\"The optimal value is :\", minimax(0, 0, True, values, MIN, MAX)) \n",
    "\t\n",
    "# This code is contributed by Rituraj Jain\n"
   ]
  },
  {
   "cell_type": "code",
   "execution_count": 1,
   "metadata": {},
   "outputs": [
    {
     "ename": "ModuleNotFoundError",
     "evalue": "No module named 'serial'",
     "output_type": "error",
     "traceback": [
      "\u001b[1;31m---------------------------------------------------------------------------\u001b[0m",
      "\u001b[1;31mModuleNotFoundError\u001b[0m                       Traceback (most recent call last)",
      "Cell \u001b[1;32mIn[1], line 1\u001b[0m\n\u001b[1;32m----> 1\u001b[0m \u001b[38;5;28;01mimport\u001b[39;00m \u001b[38;5;21;01mserial\u001b[39;00m\n\u001b[0;32m      2\u001b[0m \u001b[38;5;28;01mimport\u001b[39;00m \u001b[38;5;21;01mstruct\u001b[39;00m\n\u001b[0;32m      4\u001b[0m ser \u001b[38;5;241m=\u001b[39m serial\u001b[38;5;241m.\u001b[39mSerial(\u001b[38;5;124m'\u001b[39m\u001b[38;5;124mCOM5\u001b[39m\u001b[38;5;124m'\u001b[39m, \u001b[38;5;241m115200\u001b[39m)\n",
      "\u001b[1;31mModuleNotFoundError\u001b[0m: No module named 'serial'"
     ]
    }
   ],
   "source": [
    "import serial\n",
    "import struct\n",
    "\n",
    "ser = serial.Serial('COM5', 115200)\n",
    "\n",
    "while True:\n",
    "    # Read 4 bytes for currPos and 1 byte for startedStatus\n",
    "    data = ser.read(5)\n",
    "    if len(data) == 5:\n",
    "        currPos, startedStatus = struct.unpack('iB', data)\n",
    "        print(f\"Position: {currPos}, Started: {startedStatus}\")"
   ]
  },
  {
   "cell_type": "code",
   "execution_count": 62,
   "metadata": {},
   "outputs": [
    {
     "name": "stdout",
     "output_type": "stream",
     "text": [
      "01010101 <class 'str'>\n",
      "10100000 <class 'str'>\n",
      "00010100 <class 'str'>\n",
      "00000000 <class 'str'>\n",
      "00000000 <class 'str'>\n",
      "10000000 <class 'str'>\n",
      "00010101 <class 'str'>\n",
      "10101010 <class 'str'>\n"
     ]
    }
   ],
   "source": [
    "testData = bytearray([85, 0xa0, 0x14, 0, 0, 0x80, 0x15, 0xaa])\n",
    "board = [[0, 1, 0, 1, 0, 1, 0, 1],\n",
    "         [1, 0, 1, 0, 1, 0, 0, 0],\n",
    "         [0, 0, 0, 0, 0, 1, 0, 0],\n",
    "         [0, 0, 0, 0, 0, 0, 0, 0],\n",
    "         [0, 0, 0, 0, 0, 0, 0, 0],\n",
    "         [0, 0, 0, 0, 0, 0, 0, 0],\n",
    "         [0, 1, 0, 1, 0, 1, 0, 1],\n",
    "         [1, 0, 1, 0, 1, 0, 1, 0]]\n",
    "\n",
    "# for row, byte in enumerate(testData):\n",
    "#     # print(row, byte)\n",
    "#     for col in range(8):\n",
    "#         print(board[row][col] == 0 and byte & (128 >> col) != 0)\n",
    "\n",
    "# print(bin(testData[1]))\n",
    "# print(bin(testData[1])[2:])\n",
    "\n",
    "newBoard = [[0 for i in range(8)] for j in range(8)]\n",
    "\n",
    "for row, byte in enumerate(testData):\n",
    "    newBoard[row] = bin(byte)[2:].zfill(8)\n",
    "\n",
    "for row in newBoard:\n",
    "    print(row, type(row))"
   ]
  },
  {
   "cell_type": "code",
   "execution_count": 48,
   "metadata": {},
   "outputs": [
    {
     "name": "stdout",
     "output_type": "stream",
     "text": [
      "[0, 0, 0, 0, 0, 0, 0, 0, 0, 0, 0, 0, 0, 0, 0]\n",
      "[0, 0, 0, 0, 0, 0, 0, 0, 0, 0, 0, 0, 0, 0, 0]\n",
      "[0, 0, 1, 0, 0, 0, 1, 0, 0, 0, 1, 0, 0, 0, 1]\n",
      "[0, 0, 0, 0, 0, 0, 0, 0, 0, 0, 0, 0, 0, 0, 0]\n",
      "[1, 0, 0, 0, 1, 0, 0, 0, 1, 0, 0, 0, 0, 0, 0]\n",
      "[0, 0, 0, 0, 0, 0, 0, 0, 0, 0, 0, 0, 0, 0, 0]\n",
      "[0, 0, 0, 0, 0, 0, 0, 0, 0, 0, 1, 0, 0, 0, 0]\n",
      "[0, 0, 0, 0, 0, 0, 0, 0, 0, 0, 0, 0, 0, 0, 0]\n",
      "[0, 0, 0, 0, 0, 0, 0, 0, 0, 0, 0, 0, 0, 0, 0]\n",
      "[0, 0, 0, 0, 0, 0, 0, 0, 0, 0, 0, 0, 0, 0, 0]\n",
      "[0, 0, 0, 0, 0, 0, 0, 0, 0, 0, 0, 0, 0, 0, 0]\n",
      "[0, 0, 0, 0, 0, 0, 0, 0, 0, 0, 0, 0, 0, 0, 0]\n",
      "['E', 0, 0, 0, 0, 0, 0, 0, 0, 0, 0, 0, 0, 0, 0]\n",
      "[0, 0, 0, 0, 0, 0, 0, 0, 0, 0, 0, 0, 0, 0, 0]\n",
      "[0, 0, 'S', 0, 0, 0, 1, 0, 0, 0, 1, 0, 0, 0, 1]\n",
      "[0, 0, 0, 0, 0, 0, 0, 0, 0, 0, 0, 0, 0, 0, 0]\n",
      "[1, 0, 0, 0, 1, 0, 0, 0, 1, 0, 0, 0, 1, 0, 0]\n",
      "[0, 0, 0, 0, 0, 0, 0, 0, 0, 0, 0, 0, 0, 0, 0]\n",
      "[0, 0, 0, 0, 0, 0, 0, 0, 0, 0, 0, 0, 0, 0, 0]\n",
      "(14, 2) (12, 0)\n"
     ]
    }
   ],
   "source": [
    "from pathfinding import *\n",
    "import copy\n",
    "\n",
    "board = [['-', 'b', '-', 'b', '-', 'b', '-', 'b'],\n",
    "        ['b', '-', 'b', '-', 'b', '-', '-', '-'],\n",
    "        ['-', '-', '-', '-', '-', 'b', '-', '-'],\n",
    "        ['-', '-', '-', '-', '-', '-', '-', '-'],\n",
    "        ['-', '-', '-', '-', '-', '-', '-', '-'],\n",
    "        ['w', '-', '-', '-', '-', '-', '-', '-'],\n",
    "        ['-', '-', '-', 'w', '-', 'w', '-', 'w'],\n",
    "        ['w', '-', 'w', '-', 'w', '-', 'w', '-']]\n",
    "\n",
    "mappedBoard, startpos, endpos = mapping(board, (6, 1), (5, 0))\n",
    "checkboard = copy.deepcopy(mappedBoard)\n",
    "checkboard[startpos[0]][startpos[1]] = 'S'\n",
    "checkboard[endpos[0]][endpos[1]] = 'E'\n",
    "\n",
    "for row in checkboard:\n",
    "    print(row)\n",
    "\n",
    "print(startpos, endpos)\n",
    "\n",
    "# path = astar(mappedBoard, startpos, endpos)\n",
    "# print(path)"
   ]
  },
  {
   "cell_type": "code",
   "execution_count": 54,
   "metadata": {},
   "outputs": [
    {
     "name": "stdout",
     "output_type": "stream",
     "text": [
      "b'P;U\\xa0\\x14\\x00\\x00\\x80\\x15\\xaa;'\n"
     ]
    },
    {
     "data": {
      "text/plain": [
       "[b'P', b'U\\xa0\\x14\\x00\\x00\\x80\\x15\\xaa', b'']"
      ]
     },
     "execution_count": 54,
     "metadata": {},
     "output_type": "execute_result"
    }
   ],
   "source": [
    "testbyte = b'P;U\\xa0\\x14\\x00\\x00\\x80\\x15\\xaa;'\n",
    "\n",
    "print(testbyte)\n",
    "\n",
    "testbyte.split(b';')"
   ]
  },
  {
   "cell_type": "code",
   "execution_count": 58,
   "metadata": {},
   "outputs": [
    {
     "name": "stdout",
     "output_type": "stream",
     "text": [
      "0b1010101\n",
      "0b10100000\n",
      "00b10100\n",
      "000000b0\n",
      "000000b0\n",
      "0b10000000\n",
      "00b10101\n",
      "0b10101010\n"
     ]
    }
   ],
   "source": [
    "boardbyte = b'U\\xa0\\x14\\x00\\x00\\x80\\x15\\xaa'\n",
    "\n",
    "for byte in boardbyte:\n",
    "    print(bin(byte)..zfill(8))"
   ]
  }
 ],
 "metadata": {
  "kernelspec": {
   "display_name": "dl-env",
   "language": "python",
   "name": "python3"
  },
  "language_info": {
   "codemirror_mode": {
    "name": "ipython",
    "version": 3
   },
   "file_extension": ".py",
   "mimetype": "text/x-python",
   "name": "python",
   "nbconvert_exporter": "python",
   "pygments_lexer": "ipython3",
   "version": "3.8.16"
  }
 },
 "nbformat": 4,
 "nbformat_minor": 2
}
