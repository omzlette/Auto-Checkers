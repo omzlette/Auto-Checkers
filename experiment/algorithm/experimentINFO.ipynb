{
 "cells": [
  {
   "cell_type": "code",
   "execution_count": 48,
   "metadata": {},
   "outputs": [
    {
     "data": {
      "text/html": [
       "<div>\n",
       "<style scoped>\n",
       "    .dataframe tbody tr th:only-of-type {\n",
       "        vertical-align: middle;\n",
       "    }\n",
       "\n",
       "    .dataframe tbody tr th {\n",
       "        vertical-align: top;\n",
       "    }\n",
       "\n",
       "    .dataframe thead th {\n",
       "        text-align: right;\n",
       "    }\n",
       "</style>\n",
       "<table border=\"1\" class=\"dataframe\">\n",
       "  <thead>\n",
       "    <tr style=\"text-align: right;\">\n",
       "      <th></th>\n",
       "      <th>Game No.</th>\n",
       "      <th>Moves</th>\n",
       "      <th>Moves Log</th>\n",
       "      <th>Results</th>\n",
       "    </tr>\n",
       "  </thead>\n",
       "  <tbody>\n",
       "    <tr>\n",
       "      <th>0</th>\n",
       "      <td>1</td>\n",
       "      <td>99</td>\n",
       "      <td>{'b': [[(1, 0), (2, 1)], [(2, 1), (3, 0)], [(3...</td>\n",
       "      <td>w</td>\n",
       "    </tr>\n",
       "    <tr>\n",
       "      <th>1</th>\n",
       "      <td>2</td>\n",
       "      <td>51</td>\n",
       "      <td>{'b': [[(1, 4), (2, 3)], [(0, 3), (1, 4)], [(2...</td>\n",
       "      <td>w</td>\n",
       "    </tr>\n",
       "    <tr>\n",
       "      <th>2</th>\n",
       "      <td>3</td>\n",
       "      <td>95</td>\n",
       "      <td>{'b': [[(1, 6), (2, 7)], [(2, 7), (3, 6)], [(1...</td>\n",
       "      <td>w</td>\n",
       "    </tr>\n",
       "    <tr>\n",
       "      <th>3</th>\n",
       "      <td>4</td>\n",
       "      <td>95</td>\n",
       "      <td>{'b': [[(1, 2), (2, 3)], [(2, 3), (3, 2)], [(1...</td>\n",
       "      <td>b</td>\n",
       "    </tr>\n",
       "    <tr>\n",
       "      <th>4</th>\n",
       "      <td>5</td>\n",
       "      <td>61</td>\n",
       "      <td>{'b': [[(1, 4), (2, 3)], [(1, 6), (2, 5)], [(2...</td>\n",
       "      <td>w</td>\n",
       "    </tr>\n",
       "  </tbody>\n",
       "</table>\n",
       "</div>"
      ],
      "text/plain": [
       "  Game No. Moves                                          Moves Log Results\n",
       "0        1    99  {'b': [[(1, 0), (2, 1)], [(2, 1), (3, 0)], [(3...       w\n",
       "1        2    51  {'b': [[(1, 4), (2, 3)], [(0, 3), (1, 4)], [(2...       w\n",
       "2        3    95  {'b': [[(1, 6), (2, 7)], [(2, 7), (3, 6)], [(1...       w\n",
       "3        4    95  {'b': [[(1, 2), (2, 3)], [(2, 3), (3, 2)], [(1...       b\n",
       "4        5    61  {'b': [[(1, 4), (2, 3)], [(1, 6), (2, 5)], [(2...       w"
      ]
     },
     "execution_count": 48,
     "metadata": {},
     "output_type": "execute_result"
    }
   ],
   "source": [
    "from matplotlib import pyplot as plt\n",
    "import pandas as pd\n",
    "import numpy as np\n",
    "import warnings\n",
    "warnings.filterwarnings(\"ignore\")\n",
    "\n",
    "# Load the data\n",
    "with open(\"results.txt\", \"r\") as f:\n",
    "    data = f.readlines()\n",
    "    columns = data[0].strip().split(';')\n",
    "    data = data[1:-5]\n",
    "\n",
    "    dfBaby = pd.DataFrame([x.strip().split(';') for x in data], columns=columns)\n",
    "    dfBaby.dropna(inplace=True)\n",
    "\n",
    "dfBaby.head()"
   ]
  },
  {
   "cell_type": "code",
   "execution_count": 49,
   "metadata": {},
   "outputs": [
    {
     "data": {
      "text/html": [
       "<div>\n",
       "<style scoped>\n",
       "    .dataframe tbody tr th:only-of-type {\n",
       "        vertical-align: middle;\n",
       "    }\n",
       "\n",
       "    .dataframe tbody tr th {\n",
       "        vertical-align: top;\n",
       "    }\n",
       "\n",
       "    .dataframe thead th {\n",
       "        text-align: right;\n",
       "    }\n",
       "</style>\n",
       "<table border=\"1\" class=\"dataframe\">\n",
       "  <thead>\n",
       "    <tr style=\"text-align: right;\">\n",
       "      <th></th>\n",
       "      <th>Game No.</th>\n",
       "      <th>Moves</th>\n",
       "      <th>Moves Log</th>\n",
       "      <th>Results</th>\n",
       "    </tr>\n",
       "  </thead>\n",
       "  <tbody>\n",
       "    <tr>\n",
       "      <th>18</th>\n",
       "      <td>16</td>\n",
       "      <td>32</td>\n",
       "      <td>{'b': [[(1, 0), (2, 1)], [(0, 1), (1, 0)], [(1...</td>\n",
       "      <td>b</td>\n",
       "    </tr>\n",
       "    <tr>\n",
       "      <th>19</th>\n",
       "      <td>17</td>\n",
       "      <td>38</td>\n",
       "      <td>{'b': [[(1, 4), (2, 3)], [(1, 2), (2, 1)], [(2...</td>\n",
       "      <td>b</td>\n",
       "    </tr>\n",
       "    <tr>\n",
       "      <th>20</th>\n",
       "      <td>18</td>\n",
       "      <td>42</td>\n",
       "      <td>{'b': [[(1, 4), (2, 5)], [(1, 2), (2, 1)], [(2...</td>\n",
       "      <td>b</td>\n",
       "    </tr>\n",
       "    <tr>\n",
       "      <th>21</th>\n",
       "      <td>19</td>\n",
       "      <td>38</td>\n",
       "      <td>{'b': [[(1, 4), (2, 5)], [(0, 5), (1, 4)], [(1...</td>\n",
       "      <td>b</td>\n",
       "    </tr>\n",
       "    <tr>\n",
       "      <th>22</th>\n",
       "      <td>20</td>\n",
       "      <td>28</td>\n",
       "      <td>{'b': [[(1, 4), (2, 3)], [(2, 3), (3, 2)], [(3...</td>\n",
       "      <td>b</td>\n",
       "    </tr>\n",
       "  </tbody>\n",
       "</table>\n",
       "</div>"
      ],
      "text/plain": [
       "   Game No. Moves                                          Moves Log Results\n",
       "18       16    32  {'b': [[(1, 0), (2, 1)], [(0, 1), (1, 0)], [(1...       b\n",
       "19       17    38  {'b': [[(1, 4), (2, 3)], [(1, 2), (2, 1)], [(2...       b\n",
       "20       18    42  {'b': [[(1, 4), (2, 5)], [(1, 2), (2, 1)], [(2...       b\n",
       "21       19    38  {'b': [[(1, 4), (2, 5)], [(0, 5), (1, 4)], [(1...       b\n",
       "22       20    28  {'b': [[(1, 4), (2, 3)], [(2, 3), (3, 2)], [(3...       b"
      ]
     },
     "execution_count": 49,
     "metadata": {},
     "output_type": "execute_result"
    }
   ],
   "source": [
    "with open(\"results-boy.txt\", \"r\") as f:\n",
    "    data = f.readlines()\n",
    "    columns = data[0].strip().split(';')\n",
    "    data = data[1:]\n",
    "\n",
    "    dfBoy = pd.DataFrame([x.strip().split(';') for x in data], columns=columns)\n",
    "    dfBoy.dropna(inplace=True)\n",
    "\n",
    "dfBoy.tail()"
   ]
  },
  {
   "cell_type": "code",
   "execution_count": 50,
   "metadata": {},
   "outputs": [
    {
     "name": "stdout",
     "output_type": "stream",
     "text": [
      "(1, 0) (2, 1)\n"
     ]
    }
   ],
   "source": [
    "movesDone = {'b': [[(1, 0), (2, 1)], [(2, 1), (3, 0)], [(3, 0), (5, 2)], [(1, 6), (2, 7)], [(2, 7), (3, 6)], [(0, 5), (1, 6)], [(1, 4), (2, 5)], [(0, 1), (1, 0)], [(0, 3), (1, 4)], [(3, 6), (4, 5)], [(1, 2), (2, 3)], [(2, 5), (3, 4)], [(4, 5), (5, 4)], [(1, 6), (2, 7)], [(0, 7), (1, 6)], [(1, 6), (2, 5)], [(2, 5), (3, 6)], [(3, 6), (4, 5)], [(2, 7), (3, 6)], [(3, 6), (4, 7)], [(4, 7), (5, 6)], [(1, 4), (2, 5)], [(5, 6), (6, 5)], [(1, 0), (2, 1)], [(2, 1), (3, 0)], [(3, 0), (5, 2)], [(5, 2), (6, 3)], [(6, 3), (7, 4)], [(6, 3), (7, 4)], [(7, 4), (3, 0)], [(3, 0), (0, 3)], [(0, 3), (3, 0)], [(3, 0), (4, 1)], [(4, 1), (6, 3)], [(6, 3), (5, 2)], [(5, 2), (0, 7)], [(0, 7), (1, 6)], [(1, 6), (2, 5)], [(2, 5), (0, 3)], [(0, 3), (2, 5)], [(2, 5), (1, 4)], [(1, 4), (3, 2)], [(3, 2), (1, 4)], [(1, 4), (2, 3)], [(2, 3), (6, 7)], [(6, 7), (2, 3)], [(2, 3), (0, 5)], [(0, 5), (2, 7)], [(2, 7), (0, 5)], [(0, 5), (3, 2)]], 'w': [[(6, 1), (5, 0)], [(5, 0), (4, 1)], [(6, 3), (4, 1)], [(4, 1), (3, 0)], [(6, 5), (5, 4)], [(5, 4), (4, 3)], [(4, 3), (3, 2)], [(7, 2), (6, 1)], [(6, 1), (5, 0)], [(5, 0), (4, 1)], [(3, 0), (2, 1)], [(2, 1), (1, 2)], [(1, 2), (0, 1)], [(0, 1), (1, 2)], [(1, 2), (0, 1)], [(0, 1), (1, 2)], [(1, 2), (0, 1)], [(0, 1), (1, 2)], [(1, 2), (0, 1)], [(0, 1), (1, 2)], [(1, 2), (0, 3)], [(0, 3), (3, 6)], [(3, 2), (1, 4)], [(7, 4), (5, 6)], [(1, 4), (0, 3)], [(0, 3), (1, 2)], [(3, 6), (2, 5)], [(4, 3), (6, 5)], [(5, 6), (3, 4)], [(3, 4), (2, 3)], [(6, 5), (4, 3)], [(4, 3), (3, 2)], [(2, 3), (1, 2)], [(1, 2), (0, 1)], [(3, 2), (4, 1)], [(4, 1), (0, 5)], [(0, 5), (1, 4)], [(0, 1), (1, 0)], [(1, 0), (0, 1)], [(0, 1), (2, 3)], [(7, 0), (6, 1)], [(6, 1), (5, 2)], [(6, 7), (5, 6)], [(7, 6), (6, 5)], [(6, 5), (5, 4)], [(5, 4), (4, 5)], [(4, 5), (3, 4)], [(3, 4), (2, 3)], [(5, 2), (4, 3)]], 'turn': 'w'}\n",
    "a, b = movesDone['b'][0]\n",
    "print(a, b)"
   ]
  },
  {
   "cell_type": "code",
   "execution_count": 51,
   "metadata": {},
   "outputs": [
    {
     "name": "stdout",
     "output_type": "stream",
     "text": [
      "Results\n",
      "b    14\n",
      "w    12\n",
      "Name: count, dtype: int64\n"
     ]
    },
    {
     "data": {
      "image/png": "[encoded data removed]",
      "text/plain": [
       "<Figure size 640x480 with 1 Axes>"
      ]
     },
     "metadata": {},
     "output_type": "display_data"
    }
   ],
   "source": [
    "dfBaby['Results'].value_counts().plot(kind='bar')\n",
    "print(dfBaby['Results'].value_counts())"
   ]
  },
  {
   "cell_type": "code",
   "execution_count": 52,
   "metadata": {},
   "outputs": [
    {
     "name": "stdout",
     "output_type": "stream",
     "text": [
      "Results\n",
      "b    22\n",
      "w     1\n",
      "Name: count, dtype: int64\n"
     ]
    },
    {
     "data": {
      "image/png": "[encoded data removed]",
      "text/plain": [
       "<Figure size 640x480 with 1 Axes>"
      ]
     },
     "metadata": {},
     "output_type": "display_data"
    }
   ],
   "source": [
    "dfBoy['Results'].value_counts().plot(kind='bar')\n",
    "print(dfBoy['Results'].value_counts())"
   ]
  }
 ],
 "metadata": {
  "kernelspec": {
   "display_name": "dl-env",
   "language": "python",
   "name": "python3"
  },
  "language_info": {
   "codemirror_mode": {
    "name": "ipython",
    "version": 3
   },
   "file_extension": ".py",
   "mimetype": "text/x-python",
   "name": "python",
   "nbconvert_exporter": "python",
   "pygments_lexer": "ipython3",
   "version": "3.8.16"
  }
 },
 "nbformat": 4,
 "nbformat_minor": 2
}
